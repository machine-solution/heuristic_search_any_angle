{
 "cells": [
  {
   "cell_type": "code",
   "execution_count": 1,
   "id": "612ca59e",
   "metadata": {},
   "outputs": [],
   "source": [
    "from anya.anya import anya\n",
    "from anya.grid import Map\n",
    "from random import randrange\n",
    "\n",
    "import _2k_astar.full_graph_algorithm as full\n",
    "from _2k_astar.utils import SearchTreePQS, euclidian_distance"
   ]
  },
  {
   "cell_type": "code",
   "execution_count": 2,
   "id": "8ef9527e",
   "metadata": {
    "scrolled": true
   },
   "outputs": [
    {
     "ename": "KeyboardInterrupt",
     "evalue": "",
     "output_type": "error",
     "traceback": [
      "\u001b[0;31m---------------------------------------------------------------------------\u001b[0m",
      "\u001b[0;31mKeyboardInterrupt\u001b[0m                         Traceback (most recent call last)",
      "Cell \u001b[0;32mIn [2], line 13\u001b[0m\n\u001b[1;32m     11\u001b[0m map_\u001b[38;5;241m.\u001b[39mread_from_string(map_str, n, n)\n\u001b[1;32m     12\u001b[0m i1, j1, i2, j2 \u001b[38;5;241m=\u001b[39m randrange(n\u001b[38;5;241m+\u001b[39m\u001b[38;5;241m1\u001b[39m), randrange(n\u001b[38;5;241m+\u001b[39m\u001b[38;5;241m1\u001b[39m), randrange(n\u001b[38;5;241m+\u001b[39m\u001b[38;5;241m1\u001b[39m), randrange(n\u001b[38;5;241m+\u001b[39m\u001b[38;5;241m1\u001b[39m)\n\u001b[0;32m---> 13\u001b[0m length, path \u001b[38;5;241m=\u001b[39m \u001b[43manya\u001b[49m\u001b[43m(\u001b[49m\u001b[43mmap_\u001b[49m\u001b[43m,\u001b[49m\u001b[43m \u001b[49m\u001b[43m(\u001b[49m\u001b[43mi1\u001b[49m\u001b[43m,\u001b[49m\u001b[43m \u001b[49m\u001b[43mj1\u001b[49m\u001b[43m)\u001b[49m\u001b[43m,\u001b[49m\u001b[43m \u001b[49m\u001b[43m(\u001b[49m\u001b[43mi2\u001b[49m\u001b[43m,\u001b[49m\u001b[43m \u001b[49m\u001b[43mj2\u001b[49m\u001b[43m)\u001b[49m\u001b[43m,\u001b[49m\u001b[43m \u001b[49m\u001b[38;5;241;43m1\u001b[39;49m\u001b[43m)\u001b[49m\n\u001b[1;32m     15\u001b[0m map1 \u001b[38;5;241m=\u001b[39m full\u001b[38;5;241m.\u001b[39mMapFullGraph()\n\u001b[1;32m     16\u001b[0m map1\u001b[38;5;241m.\u001b[39mread_from_string(map_str, n, n)\n",
      "File \u001b[0;32m~/Documents/projects/stats_libs/heuristics_labs/project/heuristic_search_any_angle/anya/anya.py:557\u001b[0m, in \u001b[0;36manya\u001b[0;34m(grid, source, target, interface)\u001b[0m\n\u001b[1;32m    554\u001b[0m     \u001b[38;5;28;01melse\u001b[39;00m:\n\u001b[1;32m    555\u001b[0m         \u001b[38;5;28;01mreturn\u001b[39;00m cur\u001b[38;5;241m.\u001b[39mg_value \u001b[38;5;241m+\u001b[39m euclidean_distance(cur\u001b[38;5;241m.\u001b[39mroot, target), get_path(target, cur)\n\u001b[0;32m--> 557\u001b[0m \u001b[38;5;28;01mfor\u001b[39;00m succ \u001b[38;5;129;01min\u001b[39;00m \u001b[43mgenerate_successors\u001b[49m\u001b[43m(\u001b[49m\u001b[43mgrid\u001b[49m\u001b[43m,\u001b[49m\u001b[43m \u001b[49m\u001b[43mcur\u001b[49m\u001b[43m,\u001b[49m\u001b[43m \u001b[49m\u001b[43mtarget\u001b[49m\u001b[43m)\u001b[49m:\n\u001b[1;32m    558\u001b[0m     \u001b[38;5;28;01mif\u001b[39;00m succ\u001b[38;5;241m.\u001b[39mis_empty():\n\u001b[1;32m    559\u001b[0m         \u001b[38;5;28;01mcontinue\u001b[39;00m\n",
      "File \u001b[0;32m~/Documents/projects/stats_libs/heuristics_labs/project/heuristic_search_any_angle/anya/anya.py:448\u001b[0m, in \u001b[0;36mgenerate_successors\u001b[0;34m(grid, node, target)\u001b[0m\n\u001b[1;32m    446\u001b[0m \u001b[38;5;28;01mif\u001b[39;00m node\u001b[38;5;241m.\u001b[39mis_flat_node:\n\u001b[1;32m    447\u001b[0m     p: tp\u001b[38;5;241m.\u001b[39mTuple[\u001b[38;5;28mint\u001b[39m, Fraction]\n\u001b[0;32m--> 448\u001b[0m     \u001b[38;5;28;01mif\u001b[39;00m \u001b[38;5;28mabs\u001b[39m(\u001b[43mnode\u001b[49m\u001b[38;5;241;43m.\u001b[39;49m\u001b[43minterval\u001b[49m\u001b[43m[\u001b[49m\u001b[38;5;241;43m0\u001b[39;49m\u001b[43m]\u001b[49m\u001b[43m \u001b[49m\u001b[38;5;241;43m-\u001b[39;49m\u001b[43m \u001b[49m\u001b[43mnode\u001b[49m\u001b[38;5;241;43m.\u001b[39;49m\u001b[43mroot\u001b[49m\u001b[43m[\u001b[49m\u001b[38;5;241;43m1\u001b[39;49m\u001b[43m]\u001b[49m) \u001b[38;5;241m>\u001b[39m \u001b[38;5;28mabs\u001b[39m(node\u001b[38;5;241m.\u001b[39minterval[\u001b[38;5;241m1\u001b[39m] \u001b[38;5;241m-\u001b[39m node\u001b[38;5;241m.\u001b[39mroot[\u001b[38;5;241m1\u001b[39m]):\n\u001b[1;32m    449\u001b[0m         p \u001b[38;5;241m=\u001b[39m (node\u001b[38;5;241m.\u001b[39mrow, node\u001b[38;5;241m.\u001b[39minterval[\u001b[38;5;241m0\u001b[39m])\n\u001b[1;32m    450\u001b[0m     \u001b[38;5;28;01melse\u001b[39;00m:\n",
      "File \u001b[0;32m/usr/lib/python3.10/fractions.py:358\u001b[0m, in \u001b[0;36mFraction._operator_fallbacks.<locals>.forward\u001b[0;34m(a, b)\u001b[0m\n\u001b[1;32m    356\u001b[0m \u001b[38;5;28;01mdef\u001b[39;00m \u001b[38;5;21mforward\u001b[39m(a, b):\n\u001b[1;32m    357\u001b[0m     \u001b[38;5;28;01mif\u001b[39;00m \u001b[38;5;28misinstance\u001b[39m(b, (\u001b[38;5;28mint\u001b[39m, Fraction)):\n\u001b[0;32m--> 358\u001b[0m         \u001b[38;5;28;01mreturn\u001b[39;00m \u001b[43mmonomorphic_operator\u001b[49m\u001b[43m(\u001b[49m\u001b[43ma\u001b[49m\u001b[43m,\u001b[49m\u001b[43m \u001b[49m\u001b[43mb\u001b[49m\u001b[43m)\u001b[49m\n\u001b[1;32m    359\u001b[0m     \u001b[38;5;28;01melif\u001b[39;00m \u001b[38;5;28misinstance\u001b[39m(b, \u001b[38;5;28mfloat\u001b[39m):\n\u001b[1;32m    360\u001b[0m         \u001b[38;5;28;01mreturn\u001b[39;00m fallback_operator(\u001b[38;5;28mfloat\u001b[39m(a), b)\n",
      "File \u001b[0;32m/usr/lib/python3.10/fractions.py:473\u001b[0m, in \u001b[0;36mFraction._sub\u001b[0;34m(a, b)\u001b[0m\n\u001b[1;32m    471\u001b[0m g \u001b[38;5;241m=\u001b[39m math\u001b[38;5;241m.\u001b[39mgcd(da, db)\n\u001b[1;32m    472\u001b[0m \u001b[38;5;28;01mif\u001b[39;00m g \u001b[38;5;241m==\u001b[39m \u001b[38;5;241m1\u001b[39m:\n\u001b[0;32m--> 473\u001b[0m     \u001b[38;5;28;01mreturn\u001b[39;00m \u001b[43mFraction\u001b[49m\u001b[43m(\u001b[49m\u001b[43mna\u001b[49m\u001b[43m \u001b[49m\u001b[38;5;241;43m*\u001b[39;49m\u001b[43m \u001b[49m\u001b[43mdb\u001b[49m\u001b[43m \u001b[49m\u001b[38;5;241;43m-\u001b[39;49m\u001b[43m \u001b[49m\u001b[43mda\u001b[49m\u001b[43m \u001b[49m\u001b[38;5;241;43m*\u001b[39;49m\u001b[43m \u001b[49m\u001b[43mnb\u001b[49m\u001b[43m,\u001b[49m\u001b[43m \u001b[49m\u001b[43mda\u001b[49m\u001b[43m \u001b[49m\u001b[38;5;241;43m*\u001b[39;49m\u001b[43m \u001b[49m\u001b[43mdb\u001b[49m\u001b[43m,\u001b[49m\u001b[43m \u001b[49m\u001b[43m_normalize\u001b[49m\u001b[38;5;241;43m=\u001b[39;49m\u001b[38;5;28;43;01mFalse\u001b[39;49;00m\u001b[43m)\u001b[49m\n\u001b[1;32m    474\u001b[0m s \u001b[38;5;241m=\u001b[39m da \u001b[38;5;241m/\u001b[39m\u001b[38;5;241m/\u001b[39m g\n\u001b[1;32m    475\u001b[0m t \u001b[38;5;241m=\u001b[39m na \u001b[38;5;241m*\u001b[39m (db \u001b[38;5;241m/\u001b[39m\u001b[38;5;241m/\u001b[39m g) \u001b[38;5;241m-\u001b[39m nb \u001b[38;5;241m*\u001b[39m s\n",
      "File \u001b[0;32m/usr/lib/python3.10/fractions.py:93\u001b[0m, in \u001b[0;36mFraction.__new__\u001b[0;34m(cls, numerator, denominator, _normalize)\u001b[0m\n\u001b[1;32m     62\u001b[0m \u001b[38;5;28;01mdef\u001b[39;00m \u001b[38;5;21m__new__\u001b[39m(\u001b[38;5;28mcls\u001b[39m, numerator\u001b[38;5;241m=\u001b[39m\u001b[38;5;241m0\u001b[39m, denominator\u001b[38;5;241m=\u001b[39m\u001b[38;5;28;01mNone\u001b[39;00m, \u001b[38;5;241m*\u001b[39m, _normalize\u001b[38;5;241m=\u001b[39m\u001b[38;5;28;01mTrue\u001b[39;00m):\n\u001b[1;32m     63\u001b[0m     \u001b[38;5;124;03m\"\"\"Constructs a Rational.\u001b[39;00m\n\u001b[1;32m     64\u001b[0m \n\u001b[1;32m     65\u001b[0m \u001b[38;5;124;03m    Takes a string like '3/2' or '1.5', another Rational instance, a\u001b[39;00m\n\u001b[0;32m   (...)\u001b[0m\n\u001b[1;32m     91\u001b[0m \n\u001b[1;32m     92\u001b[0m \u001b[38;5;124;03m    \"\"\"\u001b[39;00m\n\u001b[0;32m---> 93\u001b[0m     \u001b[38;5;28mself\u001b[39m \u001b[38;5;241m=\u001b[39m \u001b[38;5;28;43msuper\u001b[39;49m\u001b[43m(\u001b[49m\u001b[43mFraction\u001b[49m\u001b[43m,\u001b[49m\u001b[43m \u001b[49m\u001b[38;5;28;43mcls\u001b[39;49m\u001b[43m)\u001b[49m\u001b[38;5;241m.\u001b[39m\u001b[38;5;21m__new__\u001b[39m(\u001b[38;5;28mcls\u001b[39m)\n\u001b[1;32m     95\u001b[0m     \u001b[38;5;28;01mif\u001b[39;00m denominator \u001b[38;5;129;01mis\u001b[39;00m \u001b[38;5;28;01mNone\u001b[39;00m:\n\u001b[1;32m     96\u001b[0m         \u001b[38;5;28;01mif\u001b[39;00m \u001b[38;5;28mtype\u001b[39m(numerator) \u001b[38;5;129;01mis\u001b[39;00m \u001b[38;5;28mint\u001b[39m:\n",
      "\u001b[0;31mKeyboardInterrupt\u001b[0m: "
     ]
    }
   ],
   "source": [
    "map_ = Map()\n",
    "n = 4\n",
    "s = ['.'] * n**2\n",
    "while True:\n",
    "    i = randrange(len(s))\n",
    "    s[i] = '@' if s[i] == '.' else '.'\n",
    "    map_str = \"\"\n",
    "    for i in range(n):\n",
    "        map_str += \"\".join(s[n*i:n*(i+1)]) + '\\n'\n",
    "    map_str = map_str[:-1]\n",
    "    map_.read_from_string(map_str, n, n)\n",
    "    i1, j1, i2, j2 = randrange(n+1), randrange(n+1), randrange(n+1), randrange(n+1)\n",
    "    length, path = anya(map_, (i1, j1), (i2, j2), 1)\n",
    "    \n",
    "    map1 = full.MapFullGraph()\n",
    "    map1.read_from_string(map_str, n, n)\n",
    "    found, _, stats, _, _ = full.full_graph_astar(map1, i1, j1, i2, j2, euclidian_distance, SearchTreePQS)\n",
    "\n",
    "    if (not found and length != -1) or (found and abs(length - stats.way_length) > 1e-8):\n",
    "        print(repr(map_str))\n",
    "        print(i1, j1, i2, j2)\n",
    "        print(length, stats.way_length)\n",
    "        assert False\n",
    "    \n",
    "    for i in range(1, len(path)):\n",
    "        if not map_.visible(path[i-1][0], path[i-1][1], path[i][0], path[i][1]):\n",
    "            print(repr(map_str))\n",
    "            print(i1, j1, i2, j2)\n",
    "            print(length, path)\n",
    "            assert False"
   ]
  },
  {
   "cell_type": "code",
   "execution_count": 3,
   "id": "5056f8d2",
   "metadata": {
    "scrolled": true
   },
   "outputs": [
    {
     "name": "stdout",
     "output_type": "stream",
     "text": [
      "(-1, -1) (Fraction(3, 1), Fraction(3, 1)) 2 0 3.605551275463989\n",
      "start succ (Fraction(0, 1), Fraction(2, 1)) 2 (2, 3)\n",
      "start succ (Fraction(2, 1), Fraction(3, 1)) 2 (2, 3)\n",
      "start succ (Fraction(3, 1), Fraction(4, 1)) 2 (2, 3)\n",
      "start succ (Fraction(0, 1), Fraction(1, 1)) 1 (2, 3)\n",
      "start succ (Fraction(1, 1), Fraction(2, 1)) 1 (2, 3)\n",
      "start succ (Fraction(2, 1), Fraction(4, 1)) 1 (2, 3)\n",
      "(2, 3) (Fraction(0, 1), Fraction(2, 1)) 2 0 3.605551275463989\n",
      "obs succ 2 (Fraction(0, 1), Fraction(0, 1)) (2, 3) False\n",
      "(2, 3) (Fraction(3, 1), Fraction(4, 1)) 2 0 3.605551275463989\n",
      "obs succ 2 (Fraction(4, 1), Fraction(4, 1)) (2, 3) False\n",
      "(2, 3) (Fraction(2, 1), Fraction(4, 1)) 1 0 3.605551275463989\n",
      "obs succ 0 (Fraction(2, 1), 4) (2, 3) False\n",
      "(2, 3) (Fraction(2, 1), Fraction(3, 1)) 2 0 3.605551275463989\n",
      "obs succ 2 (Fraction(0, 1), Fraction(2, 1)) (2, 3) False\n",
      "flat I_max col_dir row_dir (Fraction(0, 1), Fraction(2, 1), 3) -1 1\n",
      "non-obs succ 3 (Fraction(0, 1), Fraction(2, 1)) (2, 2) False 1.0 5.47213595499958\n",
      "(2, 3) (Fraction(1, 1), Fraction(2, 1)) 1 0 3.605551275463989\n",
      "non-obs succ 1 (Fraction(1, 1), Fraction(2, 1)) (1, 1) False 2.23606797749979 3.6502815398728847\n",
      "non-obs succ 0 (Fraction(0, 1), Fraction(1, 1)) (1, 1) False 2.23606797749979 3.6502815398728847\n",
      "(2, 3) (Fraction(0, 1), Fraction(1, 1)) 1 0 3.605551275463989\n",
      "non-obs succ 1 (Fraction(1, 1), Fraction(2, 1)) (1, 1) False 2.23606797749979 3.6502815398728847\n",
      "non-obs succ 0 (Fraction(0, 1), Fraction(1, 1)) (1, 1) False 2.23606797749979 3.6502815398728847\n",
      "(1, 1) (Fraction(1, 1), Fraction(2, 1)) 1 2.23606797749979 3.6502815398728847\n",
      "obs succ 1 (Fraction(2, 1), Fraction(4, 1)) (1, 1) False\n",
      "flat I_max col_dir row_dir (Fraction(2, 1), Fraction(4, 1), 0) 1 -1\n",
      "non-obs succ 0 (Fraction(2, 1), Fraction(4, 1)) (1, 2) False 3.23606797749979 6.23606797749979\n",
      "(1, 1) (Fraction(0, 1), Fraction(1, 1)) 0 2.23606797749979 3.6502815398728847\n"
     ]
    },
    {
     "data": {
      "text/plain": [
       "(3.6502815398728847, [(2, 3), (1, 1), (0, 0)])"
      ]
     },
     "execution_count": 3,
     "metadata": {},
     "output_type": "execute_result"
    }
   ],
   "source": [
    "map_ = Map()\n",
    "map_.read_from_string('.@..\\n....\\n..@@\\n@@@@', 4, 4)\n",
    "length, path = anya(map_, (2, 3), (0, 0), 1)\n",
    "length, path"
   ]
  },
  {
   "cell_type": "code",
   "execution_count": 3,
   "id": "9adde926",
   "metadata": {},
   "outputs": [
    {
     "data": {
      "text/plain": [
       "False"
      ]
     },
     "execution_count": 3,
     "metadata": {},
     "output_type": "execute_result"
    }
   ],
   "source": [
    "map_.is_corner_point(2, 2)"
   ]
  },
  {
   "cell_type": "code",
   "execution_count": 6,
   "id": "ca93dcdb",
   "metadata": {},
   "outputs": [
    {
     "data": {
      "text/plain": [
       "False"
      ]
     },
     "execution_count": 6,
     "metadata": {},
     "output_type": "execute_result"
    }
   ],
   "source": [
    "map_.visible(1, 1, 4, 0)"
   ]
  },
  {
   "cell_type": "code",
   "execution_count": 8,
   "id": "7d810f33",
   "metadata": {},
   "outputs": [
    {
     "data": {
      "text/plain": [
       "False"
      ]
     },
     "execution_count": 8,
     "metadata": {},
     "output_type": "execute_result"
    }
   ],
   "source": [
    "map_.visible(4, 0, 2, 2)"
   ]
  },
  {
   "cell_type": "code",
   "execution_count": 4,
   "id": "b223916e",
   "metadata": {},
   "outputs": [
    {
     "data": {
      "text/plain": [
       "True"
      ]
     },
     "execution_count": 4,
     "metadata": {},
     "output_type": "execute_result"
    }
   ],
   "source": [
    "map_.visible(2, 3, 1, 2)"
   ]
  },
  {
   "cell_type": "code",
   "execution_count": 3,
   "id": "15aabea9",
   "metadata": {},
   "outputs": [
    {
     "data": {
      "text/plain": [
       "True"
      ]
     },
     "execution_count": 3,
     "metadata": {},
     "output_type": "execute_result"
    }
   ],
   "source": [
    "map_.visible(0, 3, 2, 1)"
   ]
  },
  {
   "cell_type": "code",
   "execution_count": 3,
   "id": "2196fca1",
   "metadata": {},
   "outputs": [],
   "source": [
    "for i in range(1, len(path)):\n",
    "    assert map_.visible(path[i-1][0], path[i-1][1], path[i][0], path[i][1])"
   ]
  }
 ],
 "metadata": {
  "kernelspec": {
   "display_name": "Python 3 (ipykernel)",
   "language": "python",
   "name": "python3"
  },
  "language_info": {
   "codemirror_mode": {
    "name": "ipython",
    "version": 3
   },
   "file_extension": ".py",
   "mimetype": "text/x-python",
   "name": "python",
   "nbconvert_exporter": "python",
   "pygments_lexer": "ipython3",
   "version": "3.10.6"
  }
 },
 "nbformat": 4,
 "nbformat_minor": 5
}
