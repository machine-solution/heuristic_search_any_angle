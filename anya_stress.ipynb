{
 "cells": [
  {
   "cell_type": "code",
   "execution_count": 1,
   "id": "612ca59e",
   "metadata": {},
   "outputs": [],
   "source": [
    "from anya.anya import anya\n",
    "from anya.grid import Map\n",
    "from random import randrange\n",
    "\n",
    "import _2k_astar.full_graph_algorithm as full\n",
    "from _2k_astar.utils import SearchTreePQS, euclidian_distance"
   ]
  },
  {
   "cell_type": "code",
   "execution_count": 3,
   "id": "8ef9527e",
   "metadata": {
    "scrolled": true
   },
   "outputs": [
    {
     "ename": "KeyboardInterrupt",
     "evalue": "",
     "output_type": "error",
     "traceback": [
      "\u001b[0;31m---------------------------------------------------------------------------\u001b[0m",
      "\u001b[0;31mKeyboardInterrupt\u001b[0m                         Traceback (most recent call last)",
      "Cell \u001b[0;32mIn [3], line 17\u001b[0m\n\u001b[1;32m     15\u001b[0m map1 \u001b[38;5;241m=\u001b[39m full\u001b[38;5;241m.\u001b[39mMapFullGraph()\n\u001b[1;32m     16\u001b[0m map1\u001b[38;5;241m.\u001b[39mread_from_string(map_str, n, n)\n\u001b[0;32m---> 17\u001b[0m found, _, stats, _, _ \u001b[38;5;241m=\u001b[39m \u001b[43mfull\u001b[49m\u001b[38;5;241;43m.\u001b[39;49m\u001b[43mfull_graph_astar\u001b[49m\u001b[43m(\u001b[49m\u001b[43mmap1\u001b[49m\u001b[43m,\u001b[49m\u001b[43m \u001b[49m\u001b[43mi1\u001b[49m\u001b[43m,\u001b[49m\u001b[43m \u001b[49m\u001b[43mj1\u001b[49m\u001b[43m,\u001b[49m\u001b[43m \u001b[49m\u001b[43mi2\u001b[49m\u001b[43m,\u001b[49m\u001b[43m \u001b[49m\u001b[43mj2\u001b[49m\u001b[43m,\u001b[49m\u001b[43m \u001b[49m\u001b[43meuclidian_distance\u001b[49m\u001b[43m,\u001b[49m\u001b[43m \u001b[49m\u001b[43mSearchTreePQS\u001b[49m\u001b[43m)\u001b[49m\n\u001b[1;32m     19\u001b[0m \u001b[38;5;28;01mif\u001b[39;00m (\u001b[38;5;129;01mnot\u001b[39;00m found \u001b[38;5;129;01mand\u001b[39;00m length \u001b[38;5;241m!=\u001b[39m \u001b[38;5;241m-\u001b[39m\u001b[38;5;241m1\u001b[39m) \u001b[38;5;129;01mor\u001b[39;00m (found \u001b[38;5;129;01mand\u001b[39;00m \u001b[38;5;28mabs\u001b[39m(length \u001b[38;5;241m-\u001b[39m stats\u001b[38;5;241m.\u001b[39mway_length) \u001b[38;5;241m>\u001b[39m \u001b[38;5;241m1e-8\u001b[39m):\n\u001b[1;32m     20\u001b[0m     \u001b[38;5;28mprint\u001b[39m(\u001b[38;5;28mrepr\u001b[39m(map_str))\n",
      "File \u001b[0;32m~/Documents/projects/stats_libs/heuristics_labs/project/heuristic_search_any_angle/_2k_astar/full_graph_algorithm.py:50\u001b[0m, in \u001b[0;36mfull_graph_astar\u001b[0;34m(grid_map, start_i, start_j, goal_i, goal_j, heuristic_func, search_tree)\u001b[0m\n\u001b[1;32m     48\u001b[0m stats\u001b[38;5;241m.\u001b[39mexpansions \u001b[38;5;241m+\u001b[39m\u001b[38;5;241m=\u001b[39m \u001b[38;5;241m1\u001b[39m\n\u001b[1;32m     49\u001b[0m \u001b[38;5;28;01mfor\u001b[39;00m i, j \u001b[38;5;129;01min\u001b[39;00m grid_map\u001b[38;5;241m.\u001b[39mget_neighbors(curr_node\u001b[38;5;241m.\u001b[39mi, curr_node\u001b[38;5;241m.\u001b[39mj):\n\u001b[0;32m---> 50\u001b[0m     nxt_node \u001b[38;5;241m=\u001b[39m Node(i, j, g\u001b[38;5;241m=\u001b[39mcurr_node\u001b[38;5;241m.\u001b[39mg \u001b[38;5;241m+\u001b[39m \u001b[43mcompute_cost\u001b[49m\u001b[43m(\u001b[49m\u001b[43mcurr_node\u001b[49m\u001b[38;5;241;43m.\u001b[39;49m\u001b[43mi\u001b[49m\u001b[43m,\u001b[49m\u001b[43m \u001b[49m\u001b[43mcurr_node\u001b[49m\u001b[38;5;241;43m.\u001b[39;49m\u001b[43mj\u001b[49m\u001b[43m,\u001b[49m\u001b[43m \u001b[49m\u001b[43mi\u001b[49m\u001b[43m,\u001b[49m\u001b[43m \u001b[49m\u001b[43mj\u001b[49m\u001b[43m)\u001b[49m,\n\u001b[1;32m     51\u001b[0m                     h\u001b[38;5;241m=\u001b[39mheuristic_func(i, j, goal_i, goal_j)\n\u001b[1;32m     52\u001b[0m                     \u001b[38;5;28;01mif\u001b[39;00m heuristic_func \u001b[38;5;28;01melse\u001b[39;00m \u001b[38;5;241m0\u001b[39m,\n\u001b[1;32m     53\u001b[0m                     parent\u001b[38;5;241m=\u001b[39mcurr_node)\n\u001b[1;32m     54\u001b[0m     \u001b[38;5;28;01mif\u001b[39;00m nxt_node \u001b[38;5;241m==\u001b[39m goal_node:\n\u001b[1;32m     55\u001b[0m         path_found \u001b[38;5;241m=\u001b[39m \u001b[38;5;28;01mTrue\u001b[39;00m\n",
      "File \u001b[0;32m~/Documents/projects/stats_libs/heuristics_labs/project/heuristic_search_any_angle/_2k_astar/utils.py:75\u001b[0m, in \u001b[0;36mcompute_cost\u001b[0;34m(i1, j1, i2, j2)\u001b[0m\n\u001b[1;32m     74\u001b[0m \u001b[38;5;28;01mdef\u001b[39;00m \u001b[38;5;21mcompute_cost\u001b[39m(i1, j1, i2, j2):\n\u001b[0;32m---> 75\u001b[0m     \u001b[38;5;28;01mreturn\u001b[39;00m \u001b[43mlength\u001b[49m\u001b[43m(\u001b[49m\u001b[43mi1\u001b[49m\u001b[43m \u001b[49m\u001b[38;5;241;43m-\u001b[39;49m\u001b[43m \u001b[49m\u001b[43mi2\u001b[49m\u001b[43m,\u001b[49m\u001b[43m \u001b[49m\u001b[43mj1\u001b[49m\u001b[43m \u001b[49m\u001b[38;5;241;43m-\u001b[39;49m\u001b[43m \u001b[49m\u001b[43mj2\u001b[49m\u001b[43m)\u001b[49m\n",
      "\u001b[0;31mKeyboardInterrupt\u001b[0m: "
     ]
    }
   ],
   "source": [
    "map_ = Map()\n",
    "n = 5\n",
    "s = ['.'] * n**2\n",
    "while True:\n",
    "    i = randrange(len(s))\n",
    "    s[i] = '@' if s[i] == '.' else '.'\n",
    "    map_str = \"\"\n",
    "    for i in range(n):\n",
    "        map_str += \"\".join(s[n*i:n*(i+1)]) + '\\n'\n",
    "    map_str = map_str[:-1]\n",
    "    map_.read_from_string(map_str, n, n)\n",
    "    i1, j1, i2, j2 = randrange(n+1), randrange(n+1), randrange(n+1), randrange(n+1)\n",
    "    length, path = anya(map_, (i1, j1), (i2, j2), 1)\n",
    "    \n",
    "    map1 = full.MapFullGraph()\n",
    "    map1.read_from_string(map_str, n, n)\n",
    "    found, _, stats, _, _ = full.full_graph_astar(map1, i1, j1, i2, j2, euclidian_distance, SearchTreePQS)\n",
    "\n",
    "    if (not found and length != -1) or (found and abs(length - stats.way_length) > 1e-8):\n",
    "        print(repr(map_str))\n",
    "        print(i1, j1, i2, j2)\n",
    "        print(length, stats.way_length)\n",
    "        assert False\n",
    "    \n",
    "    #for i in range(1, len(path)):\n",
    "    #    if not map_.visible(path[i-1][0], path[i-1][1], path[i][0], path[i][1]):\n",
    "    #        print(repr(map_str))\n",
    "    #        print(i1, j1, i2, j2)\n",
    "    #        print(length, path)\n",
    "    #        assert False"
   ]
  },
  {
   "cell_type": "code",
   "execution_count": 3,
   "id": "5056f8d2",
   "metadata": {
    "scrolled": true
   },
   "outputs": [
    {
     "name": "stdout",
     "output_type": "stream",
     "text": [
      "(-1, -1) (Fraction(3, 1), Fraction(3, 1)) 2 0 3.605551275463989\n",
      "start succ (Fraction(0, 1), Fraction(2, 1)) 2 (2, 3)\n",
      "start succ (Fraction(2, 1), Fraction(3, 1)) 2 (2, 3)\n",
      "start succ (Fraction(3, 1), Fraction(4, 1)) 2 (2, 3)\n",
      "start succ (Fraction(0, 1), Fraction(1, 1)) 1 (2, 3)\n",
      "start succ (Fraction(1, 1), Fraction(2, 1)) 1 (2, 3)\n",
      "start succ (Fraction(2, 1), Fraction(4, 1)) 1 (2, 3)\n",
      "(2, 3) (Fraction(0, 1), Fraction(2, 1)) 2 0 3.605551275463989\n",
      "obs succ 2 (Fraction(0, 1), Fraction(0, 1)) (2, 3) False\n",
      "(2, 3) (Fraction(3, 1), Fraction(4, 1)) 2 0 3.605551275463989\n",
      "obs succ 2 (Fraction(4, 1), Fraction(4, 1)) (2, 3) False\n",
      "(2, 3) (Fraction(2, 1), Fraction(4, 1)) 1 0 3.605551275463989\n",
      "obs succ 0 (Fraction(2, 1), 4) (2, 3) False\n",
      "(2, 3) (Fraction(2, 1), Fraction(3, 1)) 2 0 3.605551275463989\n",
      "obs succ 2 (Fraction(0, 1), Fraction(2, 1)) (2, 3) False\n",
      "flat I_max col_dir row_dir (Fraction(0, 1), Fraction(2, 1), 3) -1 1\n",
      "non-obs succ 3 (Fraction(0, 1), Fraction(2, 1)) (2, 2) False 1.0 5.47213595499958\n",
      "(2, 3) (Fraction(1, 1), Fraction(2, 1)) 1 0 3.605551275463989\n",
      "non-obs succ 1 (Fraction(1, 1), Fraction(2, 1)) (1, 1) False 2.23606797749979 3.6502815398728847\n",
      "non-obs succ 0 (Fraction(0, 1), Fraction(1, 1)) (1, 1) False 2.23606797749979 3.6502815398728847\n",
      "(2, 3) (Fraction(0, 1), Fraction(1, 1)) 1 0 3.605551275463989\n",
      "non-obs succ 1 (Fraction(1, 1), Fraction(2, 1)) (1, 1) False 2.23606797749979 3.6502815398728847\n",
      "non-obs succ 0 (Fraction(0, 1), Fraction(1, 1)) (1, 1) False 2.23606797749979 3.6502815398728847\n",
      "(1, 1) (Fraction(1, 1), Fraction(2, 1)) 1 2.23606797749979 3.6502815398728847\n",
      "obs succ 1 (Fraction(2, 1), Fraction(4, 1)) (1, 1) False\n",
      "flat I_max col_dir row_dir (Fraction(2, 1), Fraction(4, 1), 0) 1 -1\n",
      "non-obs succ 0 (Fraction(2, 1), Fraction(4, 1)) (1, 2) False 3.23606797749979 6.23606797749979\n",
      "(1, 1) (Fraction(0, 1), Fraction(1, 1)) 0 2.23606797749979 3.6502815398728847\n"
     ]
    },
    {
     "data": {
      "text/plain": [
       "(3.6502815398728847, [(2, 3), (1, 1), (0, 0)])"
      ]
     },
     "execution_count": 3,
     "metadata": {},
     "output_type": "execute_result"
    }
   ],
   "source": [
    "map_ = Map()\n",
    "map_.read_from_string('.@..\\n....\\n..@@\\n@@@@', 4, 4)\n",
    "length, path = anya(map_, (2, 3), (0, 0), 1)\n",
    "length, path"
   ]
  },
  {
   "cell_type": "code",
   "execution_count": 3,
   "id": "9adde926",
   "metadata": {},
   "outputs": [
    {
     "data": {
      "text/plain": [
       "False"
      ]
     },
     "execution_count": 3,
     "metadata": {},
     "output_type": "execute_result"
    }
   ],
   "source": [
    "map_.is_corner_point(2, 2)"
   ]
  },
  {
   "cell_type": "code",
   "execution_count": 5,
   "id": "ca93dcdb",
   "metadata": {},
   "outputs": [
    {
     "data": {
      "text/plain": [
       "False"
      ]
     },
     "execution_count": 5,
     "metadata": {},
     "output_type": "execute_result"
    }
   ],
   "source": [
    "map_.visible(4, 2, 0, 0)"
   ]
  },
  {
   "cell_type": "code",
   "execution_count": 8,
   "id": "7d810f33",
   "metadata": {},
   "outputs": [
    {
     "data": {
      "text/plain": [
       "False"
      ]
     },
     "execution_count": 8,
     "metadata": {},
     "output_type": "execute_result"
    }
   ],
   "source": [
    "map_.visible(4, 0, 2, 2)"
   ]
  },
  {
   "cell_type": "code",
   "execution_count": 4,
   "id": "b223916e",
   "metadata": {},
   "outputs": [
    {
     "data": {
      "text/plain": [
       "True"
      ]
     },
     "execution_count": 4,
     "metadata": {},
     "output_type": "execute_result"
    }
   ],
   "source": [
    "map_.visible(2, 3, 1, 2)"
   ]
  },
  {
   "cell_type": "code",
   "execution_count": 3,
   "id": "15aabea9",
   "metadata": {},
   "outputs": [
    {
     "data": {
      "text/plain": [
       "True"
      ]
     },
     "execution_count": 3,
     "metadata": {},
     "output_type": "execute_result"
    }
   ],
   "source": [
    "map_.visible(0, 3, 2, 1)"
   ]
  },
  {
   "cell_type": "code",
   "execution_count": 3,
   "id": "2196fca1",
   "metadata": {},
   "outputs": [],
   "source": [
    "for i in range(1, len(path)):\n",
    "    assert map_.visible(path[i-1][0], path[i-1][1], path[i][0], path[i][1])"
   ]
  }
 ],
 "metadata": {
  "kernelspec": {
   "display_name": "Python 3 (ipykernel)",
   "language": "python",
   "name": "python3"
  },
  "language_info": {
   "codemirror_mode": {
    "name": "ipython",
    "version": 3
   },
   "file_extension": ".py",
   "mimetype": "text/x-python",
   "name": "python",
   "nbconvert_exporter": "python",
   "pygments_lexer": "ipython3",
   "version": "3.10.6"
  }
 },
 "nbformat": 4,
 "nbformat_minor": 5
}
