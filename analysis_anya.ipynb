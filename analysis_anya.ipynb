{
 "cells": [
  {
   "cell_type": "code",
   "execution_count": 1,
   "id": "f338b75a",
   "metadata": {},
   "outputs": [],
   "source": [
    "from PIL import Image, ImageDraw\n",
    "import numpy as np\n",
    "import matplotlib.pyplot as plt\n",
    "import math\n",
    "from math import sqrt, floor\n",
    "from heapq import heappop, heappush\n",
    "from datetime import datetime\n",
    "%matplotlib inline\n",
    "\n",
    "import sys\n",
    "sys.path.append('anya')\n",
    "\n",
    "from grid import Map\n",
    "from anya import anya"
   ]
  },
  {
   "cell_type": "code",
   "execution_count": 2,
   "id": "c3d3c77d",
   "metadata": {},
   "outputs": [],
   "source": [
    "from theta.src.utils import *"
   ]
  },
  {
   "cell_type": "code",
   "execution_count": 3,
   "id": "9b487c32",
   "metadata": {},
   "outputs": [],
   "source": [
    "class NewStats(Stats):\n",
    "    def __init__(self):\n",
    "        self.difficulty = 0\n",
    "        self.expansions = 0 # algorithm must set this value\n",
    "        self.runtime = 0 # algorithm must set this value\n",
    "        self.way_length = 0 # algorithm must set this value\n",
    "        self.suboptimal = 0\n",
    "        self.max_tree_size = 0 # algorithm must set this value\n",
    "\n",
    "    def read_from_string(self, data):\n",
    "        delimiter = \",\"\n",
    "        diff, expansions, runtime, way_length, suboptimal, tree_size = data.split(delimiter)\n",
    "        self.difficulty = int(diff)\n",
    "        self.expansions = int(expansions)\n",
    "        self.runtime = float(runtime)\n",
    "        self.way_length = float(way_length)\n",
    "        self.suboptimal = int(suboptimal)\n",
    "        self.max_tree_size = int(max_tree_size)\n",
    "        \n",
    "        \n",
    "    def __repr__(self):\n",
    "        delimiter = \",\"\n",
    "        return str(self.difficulty) + delimiter + str(self.expansions) + delimiter + str(self.runtime) + delimiter + str(self.way_length) +\\\n",
    "        delimiter + str(self.suboptimal)  + delimiter + str(self.max_tree_size)\n",
    "    \n",
    "    def header(self):\n",
    "        delimiter = \",\"\n",
    "        return \"difficulty\" + delimiter + \"expansions\" + delimiter + \"runtime\" + delimiter + \"way_length\" +\\\n",
    "        delimiter + \"suboptimal\" + delimiter + \"max_tree_size\"\n",
    "  "
   ]
  },
  {
   "cell_type": "code",
   "execution_count": 4,
   "id": "3d790a44",
   "metadata": {},
   "outputs": [],
   "source": [
    "def compute_stats(stats, node, optimal):\n",
    "    if not node is None:\n",
    "        stats.suboptimal = round(stats.way_length / optimal, 6)\n",
    "        stats.runtime = round(stats.runtime.total_seconds(), 6)\n",
    "    return stats"
   ]
  },
  {
   "cell_type": "code",
   "execution_count": 5,
   "id": "f63898e1",
   "metadata": {},
   "outputs": [],
   "source": [
    "class TestCase:\n",
    "    def __init__(self, difficulty, start, goal, optimal):\n",
    "        self.difficulty = difficulty\n",
    "        self.start = start\n",
    "        self.goal = goal\n",
    "        self.optimal = optimal"
   ]
  },
  {
   "cell_type": "code",
   "execution_count": 6,
   "id": "fa89493d",
   "metadata": {},
   "outputs": [],
   "source": [
    "def read_map_from_file(path):\n",
    "    with open(path, \"r\") as f:\n",
    "        map_type = f.readline()\n",
    "        height = f.readline().split()[1]\n",
    "        width = f.readline().split()[1]\n",
    "        f.readline()\n",
    "        # now we read the map\n",
    "        map_canvas = \"\\n\".join(f.readlines())\n",
    "        return map_canvas, int(width), int(height)"
   ]
  },
  {
   "cell_type": "code",
   "execution_count": 7,
   "id": "9a847c92",
   "metadata": {},
   "outputs": [],
   "source": [
    "def read_scenes_from_file(path):\n",
    "    tests = []\n",
    "    with open(path, \"r\") as f:\n",
    "        version = f.readline()\n",
    "        for data in f.readlines():\n",
    "            difficulty, _,_,_, start_y, start_x, goal_y, goal_x, optimal = data.split()\n",
    "            test = TestCase(int(difficulty), (int(start_x), int(start_y)), (int(goal_x), int(goal_y)), float(optimal))\n",
    "            tests.append(test)\n",
    "    return tests"
   ]
  },
  {
   "cell_type": "code",
   "execution_count": 8,
   "id": "d7bc5a0b",
   "metadata": {},
   "outputs": [],
   "source": [
    "class TestSet:\n",
    "    def __init__(self, name, path, output):\n",
    "        self.map = Map()\n",
    "        self.tests = []\n",
    "        self.max_diff = 0\n",
    "        self.name = name\n",
    "        \n",
    "        self.read_from_file(path)\n",
    "        self.input_path = path\n",
    "        self.output_path = output\n",
    "    \n",
    "    def read_from_file(self, path):\n",
    "        map_data = read_map_from_file(path + \".map\")\n",
    "        self.map.read_from_string(*map_data)\n",
    "        self.tests = read_scenes_from_file(path + \".map.scen\")\n",
    "        self.max_diff = max([item.difficulty for item in self.tests])\n",
    "        \n",
    "    def choose_tests(self, number):\n",
    "        tests = []\n",
    "        i = 0\n",
    "        for diff in range(number):\n",
    "            target = diff * self.max_diff  // number\n",
    "            while self.tests[i].difficulty != target:\n",
    "                i += 1\n",
    "            tests.append(self.tests[i])\n",
    "            i += 1\n",
    "        return tests"
   ]
  },
  {
   "cell_type": "code",
   "execution_count": 9,
   "id": "2e00fb0c",
   "metadata": {},
   "outputs": [],
   "source": [
    "sets = []\n",
    "setSC = TestSet(\"starcraft\", \"analysis/data/starcraft/NovaStation\", \"analysis/results/starcraft/NovaStation\")\n",
    "sets.append(setSC)\n",
    "setCity = TestSet(\"paris\", \"analysis/data/paris/Paris_1_256\", \"analysis/results/paris/Paris_1_256\")\n",
    "sets.append(setCity)\n",
    "setMaze = TestSet(\"maze\", \"analysis/data/maze/maze512-32-7\", \"analysis/results/maze/maze512-32-7\")\n",
    "sets.append(setMaze)\n",
    "# setRoom = TestSet(\"room\", \"analysis/data/room/16room_005\", \"analysis/results/room/16room_005\")\n",
    "# sets.append(setRoom)\n",
    "setRand = TestSet(\"random\", \"analysis/data/random/random512-10-5\", \"analysis/results/random/random512-10-5\")\n",
    "sets.append(setRand)"
   ]
  },
  {
   "cell_type": "code",
   "execution_count": 10,
   "id": "5817b8d3",
   "metadata": {},
   "outputs": [],
   "source": [
    "class SearchCase:\n",
    "    def __init__(self, h_i, w_i, p_i, k_i):\n",
    "        self.h_i = h_i\n",
    "        self.w_i = w_i\n",
    "        self.p_i = p_i\n",
    "        self.k_i = k_i\n",
    "        \n",
    "    def _repr__(self):\n",
    "        return names[self.h_i] + \".w=\" + str(ws[self.w_i]) + \".p=\" + str(ps[self.p_i]) + \".k=\" + str(ks[self.k_i])"
   ]
  },
  {
   "cell_type": "code",
   "execution_count": 11,
   "id": "9f284197",
   "metadata": {},
   "outputs": [],
   "source": [
    "def check(testSet, test_number):\n",
    "    res = []\n",
    "    tests = testSet.choose_tests(test_number)\n",
    "    \n",
    "    for test in tests:\n",
    "        print(testSet.map.height, testSet.map.width, test.start, test.goal)\n",
    "        length, path = anya(testSet.map, test.start, test.goal)\n",
    "        res.append(length)\n",
    "        for i in range(1, len(path)):\n",
    "            assert testSet.map.visible(path[i-1][0], path[i-1][1], path[i][0], path[i][1])\n",
    "\n",
    "    return res\n",
    "    "
   ]
  },
  {
   "cell_type": "code",
   "execution_count": 12,
   "id": "8e1f039d",
   "metadata": {},
   "outputs": [
    {
     "name": "stdout",
     "output_type": "stream",
     "text": [
      "512 512 (450, 140) (451, 142)\n",
      "512 512 (441, 423) (338, 90)\n"
     ]
    },
    {
     "ename": "AssertionError",
     "evalue": "",
     "output_type": "error",
     "traceback": [
      "\u001b[0;31m---------------------------------------------------------------------------\u001b[0m",
      "\u001b[0;31mAssertionError\u001b[0m                            Traceback (most recent call last)",
      "Cell \u001b[0;32mIn [12], line 1\u001b[0m\n\u001b[0;32m----> 1\u001b[0m \u001b[43mcheck\u001b[49m\u001b[43m(\u001b[49m\u001b[43msetSC\u001b[49m\u001b[43m,\u001b[49m\u001b[43m \u001b[49m\u001b[38;5;241;43m2\u001b[39;49m\u001b[43m)\u001b[49m\n",
      "Cell \u001b[0;32mIn [11], line 10\u001b[0m, in \u001b[0;36mcheck\u001b[0;34m(testSet, test_number)\u001b[0m\n\u001b[1;32m      8\u001b[0m     res\u001b[38;5;241m.\u001b[39mappend(length)\n\u001b[1;32m      9\u001b[0m     \u001b[38;5;28;01mfor\u001b[39;00m i \u001b[38;5;129;01min\u001b[39;00m \u001b[38;5;28mrange\u001b[39m(\u001b[38;5;241m1\u001b[39m, \u001b[38;5;28mlen\u001b[39m(path)):\n\u001b[0;32m---> 10\u001b[0m         \u001b[38;5;28;01massert\u001b[39;00m testSet\u001b[38;5;241m.\u001b[39mmap\u001b[38;5;241m.\u001b[39mvisible(path[i\u001b[38;5;241m-\u001b[39m\u001b[38;5;241m1\u001b[39m][\u001b[38;5;241m0\u001b[39m], path[i\u001b[38;5;241m-\u001b[39m\u001b[38;5;241m1\u001b[39m][\u001b[38;5;241m1\u001b[39m], path[i][\u001b[38;5;241m0\u001b[39m], path[i][\u001b[38;5;241m1\u001b[39m])\n\u001b[1;32m     12\u001b[0m \u001b[38;5;28;01mreturn\u001b[39;00m res\n",
      "\u001b[0;31mAssertionError\u001b[0m: "
     ]
    }
   ],
   "source": [
    "check(setSC, 2)"
   ]
  }
 ],
 "metadata": {
  "kernelspec": {
   "display_name": "Python 3 (ipykernel)",
   "language": "python",
   "name": "python3"
  },
  "language_info": {
   "codemirror_mode": {
    "name": "ipython",
    "version": 3
   },
   "file_extension": ".py",
   "mimetype": "text/x-python",
   "name": "python",
   "nbconvert_exporter": "python",
   "pygments_lexer": "ipython3",
   "version": "3.10.6"
  }
 },
 "nbformat": 4,
 "nbformat_minor": 5
}
