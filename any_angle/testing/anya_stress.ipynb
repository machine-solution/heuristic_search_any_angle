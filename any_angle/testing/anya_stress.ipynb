{
 "cells": [
  {
   "cell_type": "code",
   "execution_count": 4,
   "id": "612ca59e",
   "metadata": {},
   "outputs": [],
   "source": [
    "from random import randrange\n",
    "\n",
    "import sys\n",
    "sys.path.append(\"../..\")  # TODO: change to OS-independent\n",
    "\n",
    "from any_angle.anya.anya import anya\n",
    "from any_angle.common.grid import Map\n",
    "from any_angle.full_graph.api import FullGraph"
   ]
  },
  {
   "cell_type": "code",
   "execution_count": 5,
   "id": "8ef9527e",
   "metadata": {
    "scrolled": true
   },
   "outputs": [
    {
     "ename": "KeyboardInterrupt",
     "evalue": "",
     "output_type": "error",
     "traceback": [
      "\u001b[0;31m---------------------------------------------------------------------------\u001b[0m",
      "\u001b[0;31mKeyboardInterrupt\u001b[0m                         Traceback (most recent call last)",
      "Cell \u001b[0;32mIn [5], line 15\u001b[0m\n\u001b[1;32m     13\u001b[0m map_ \u001b[38;5;241m=\u001b[39m Map()\n\u001b[1;32m     14\u001b[0m map_\u001b[38;5;241m.\u001b[39mread_from_string(map_str, n, n)\n\u001b[0;32m---> 15\u001b[0m length, path \u001b[38;5;241m=\u001b[39m \u001b[43manya\u001b[49m\u001b[43m(\u001b[49m\u001b[43mmap_\u001b[49m\u001b[43m,\u001b[49m\u001b[43m \u001b[49m\u001b[43m(\u001b[49m\u001b[43mi1\u001b[49m\u001b[43m,\u001b[49m\u001b[43m \u001b[49m\u001b[43mj1\u001b[49m\u001b[43m)\u001b[49m\u001b[43m,\u001b[49m\u001b[43m \u001b[49m\u001b[43m(\u001b[49m\u001b[43mi2\u001b[49m\u001b[43m,\u001b[49m\u001b[43m \u001b[49m\u001b[43mj2\u001b[49m\u001b[43m)\u001b[49m\u001b[43m,\u001b[49m\u001b[43m \u001b[49m\u001b[38;5;241;43m1\u001b[39;49m\u001b[43m)\u001b[49m\n\u001b[1;32m     17\u001b[0m found, _, stats, _, _ \u001b[38;5;241m=\u001b[39m FullGraph()\u001b[38;5;241m.\u001b[39mcompute_path(map_str, n, n, (i1, j1), (i2, j2))\n\u001b[1;32m     19\u001b[0m \u001b[38;5;28;01mif\u001b[39;00m (\u001b[38;5;129;01mnot\u001b[39;00m found \u001b[38;5;129;01mand\u001b[39;00m length \u001b[38;5;241m!=\u001b[39m \u001b[38;5;241m-\u001b[39m\u001b[38;5;241m1\u001b[39m) \u001b[38;5;129;01mor\u001b[39;00m (found \u001b[38;5;129;01mand\u001b[39;00m \u001b[38;5;28mabs\u001b[39m(length \u001b[38;5;241m-\u001b[39m stats\u001b[38;5;241m.\u001b[39mway_length) \u001b[38;5;241m>\u001b[39m \u001b[38;5;241m1e-8\u001b[39m):\n",
      "File \u001b[0;32m~/Documents/projects/stats_libs/heuristics_labs/project/heuristic_search_any_angle/any_angle/testing/../../any_angle/anya/anya.py:558\u001b[0m, in \u001b[0;36manya\u001b[0;34m(grid, source, target, interface)\u001b[0m\n\u001b[1;32m    555\u001b[0m     \u001b[38;5;28;01melse\u001b[39;00m:\n\u001b[1;32m    556\u001b[0m         \u001b[38;5;28;01mreturn\u001b[39;00m cur\u001b[38;5;241m.\u001b[39mg_value \u001b[38;5;241m+\u001b[39m euclidean_distance(cur\u001b[38;5;241m.\u001b[39mroot, target), get_path(target, cur)\n\u001b[0;32m--> 558\u001b[0m \u001b[38;5;28;01mfor\u001b[39;00m succ \u001b[38;5;129;01min\u001b[39;00m \u001b[43mgenerate_successors\u001b[49m\u001b[43m(\u001b[49m\u001b[43mgrid\u001b[49m\u001b[43m,\u001b[49m\u001b[43m \u001b[49m\u001b[43mcur\u001b[49m\u001b[43m,\u001b[49m\u001b[43m \u001b[49m\u001b[43mtarget\u001b[49m\u001b[43m)\u001b[49m:\n\u001b[1;32m    559\u001b[0m     \u001b[38;5;28;01mif\u001b[39;00m succ\u001b[38;5;241m.\u001b[39mis_empty():\n\u001b[1;32m    560\u001b[0m         \u001b[38;5;28;01mcontinue\u001b[39;00m\n",
      "File \u001b[0;32m~/Documents/projects/stats_libs/heuristics_labs/project/heuristic_search_any_angle/any_angle/testing/../../any_angle/anya/anya.py:443\u001b[0m, in \u001b[0;36mgenerate_successors\u001b[0;34m(grid, node, target)\u001b[0m\n\u001b[1;32m    441\u001b[0m \u001b[38;5;28;01mdef\u001b[39;00m \u001b[38;5;21mgenerate_successors\u001b[39m(grid: Map, node: Node, target: tp\u001b[38;5;241m.\u001b[39mTuple[\u001b[38;5;28mint\u001b[39m, \u001b[38;5;28mint\u001b[39m]) \u001b[38;5;241m-\u001b[39m\u001b[38;5;241m>\u001b[39m tp\u001b[38;5;241m.\u001b[39mList[Node]:\n\u001b[1;32m    442\u001b[0m     \u001b[38;5;28;01mif\u001b[39;00m node\u001b[38;5;241m.\u001b[39mis_start:\n\u001b[0;32m--> 443\u001b[0m         \u001b[38;5;28;01mreturn\u001b[39;00m \u001b[43mgenerate_start_successors\u001b[49m\u001b[43m(\u001b[49m\u001b[43mgrid\u001b[49m\u001b[43m,\u001b[49m\u001b[43m \u001b[49m\u001b[43m(\u001b[49m\u001b[43mnode\u001b[49m\u001b[38;5;241;43m.\u001b[39;49m\u001b[43mrow\u001b[49m\u001b[43m,\u001b[49m\u001b[43m \u001b[49m\u001b[43mnode\u001b[49m\u001b[38;5;241;43m.\u001b[39;49m\u001b[43minterval\u001b[49m\u001b[43m[\u001b[49m\u001b[38;5;241;43m1\u001b[39;49m\u001b[43m]\u001b[49m\u001b[38;5;241;43m.\u001b[39;49m\u001b[43mnumerator\u001b[49m\u001b[43m)\u001b[49m\u001b[43m,\u001b[49m\u001b[43m \u001b[49m\u001b[43mtarget\u001b[49m\u001b[43m)\u001b[49m\n\u001b[1;32m    445\u001b[0m     successors \u001b[38;5;241m=\u001b[39m []\n\u001b[1;32m    447\u001b[0m     \u001b[38;5;28;01mif\u001b[39;00m node\u001b[38;5;241m.\u001b[39mis_flat_node:\n",
      "File \u001b[0;32m~/Documents/projects/stats_libs/heuristics_labs/project/heuristic_search_any_angle/any_angle/testing/../../any_angle/anya/anya.py:109\u001b[0m, in \u001b[0;36mgenerate_start_successors\u001b[0;34m(grid, s, target)\u001b[0m\n\u001b[1;32m    107\u001b[0m \u001b[38;5;28;01melse\u001b[39;00m:\n\u001b[1;32m    108\u001b[0m     r \u001b[38;5;241m=\u001b[39m l\n\u001b[0;32m--> 109\u001b[0m     \u001b[38;5;28;01mwhile\u001b[39;00m r \u001b[38;5;241m<\u001b[39m grid\u001b[38;5;241m.\u001b[39mwidth \u001b[38;5;129;01mand\u001b[39;00m \u001b[43mgrid\u001b[49m\u001b[38;5;241;43m.\u001b[39;49m\u001b[43mvisible\u001b[49m\u001b[43m(\u001b[49m\u001b[43ms\u001b[49m\u001b[43m[\u001b[49m\u001b[38;5;241;43m0\u001b[39;49m\u001b[43m]\u001b[49m\u001b[43m,\u001b[49m\u001b[43m \u001b[49m\u001b[43ms\u001b[49m\u001b[43m[\u001b[49m\u001b[38;5;241;43m1\u001b[39;49m\u001b[43m]\u001b[49m\u001b[43m,\u001b[49m\u001b[43m \u001b[49m\u001b[43ms\u001b[49m\u001b[43m[\u001b[49m\u001b[38;5;241;43m0\u001b[39;49m\u001b[43m]\u001b[49m\u001b[43m \u001b[49m\u001b[38;5;241;43m+\u001b[39;49m\u001b[43m \u001b[49m\u001b[38;5;241;43m1\u001b[39;49m\u001b[43m,\u001b[49m\u001b[43m \u001b[49m\u001b[43mr\u001b[49m\u001b[43m)\u001b[49m:\n\u001b[1;32m    110\u001b[0m         r \u001b[38;5;241m+\u001b[39m\u001b[38;5;241m=\u001b[39m \u001b[38;5;241m1\u001b[39m\n\u001b[1;32m    112\u001b[0m     \u001b[38;5;28;01mif\u001b[39;00m \u001b[38;5;129;01mnot\u001b[39;00m grid\u001b[38;5;241m.\u001b[39mvisible(s[\u001b[38;5;241m0\u001b[39m], s[\u001b[38;5;241m1\u001b[39m], s[\u001b[38;5;241m0\u001b[39m] \u001b[38;5;241m+\u001b[39m \u001b[38;5;241m1\u001b[39m, r):\n",
      "File \u001b[0;32m~/Documents/projects/stats_libs/heuristics_labs/project/heuristic_search_any_angle/any_angle/testing/../../any_angle/common/grid.py:166\u001b[0m, in \u001b[0;36mMap.visible\u001b[0;34m(self, i1, j1, i2, j2)\u001b[0m\n\u001b[1;32m    164\u001b[0m \u001b[38;5;28;01mdef\u001b[39;00m \u001b[38;5;21mvisible\u001b[39m(\u001b[38;5;28mself\u001b[39m, i1, j1, i2, j2):\n\u001b[1;32m    165\u001b[0m     \u001b[38;5;28;01mif\u001b[39;00m (i1 \u001b[38;5;241m==\u001b[39m i2) \u001b[38;5;129;01mor\u001b[39;00m (j1 \u001b[38;5;241m==\u001b[39m j2):\n\u001b[0;32m--> 166\u001b[0m         \u001b[38;5;28;01mreturn\u001b[39;00m \u001b[38;5;28;43mself\u001b[39;49m\u001b[38;5;241;43m.\u001b[39;49m\u001b[43mvisible_axes\u001b[49m\u001b[43m(\u001b[49m\u001b[43mi1\u001b[49m\u001b[43m,\u001b[49m\u001b[43m \u001b[49m\u001b[43mj1\u001b[49m\u001b[43m,\u001b[49m\u001b[43m \u001b[49m\u001b[43mi2\u001b[49m\u001b[43m,\u001b[49m\u001b[43m \u001b[49m\u001b[43mj2\u001b[49m\u001b[43m)\u001b[49m\n\u001b[1;32m    168\u001b[0m     cells \u001b[38;5;241m=\u001b[39m intersect_cells(i1, j1, i2, j2)\n\u001b[1;32m    169\u001b[0m     \u001b[38;5;28;01mfor\u001b[39;00m cell \u001b[38;5;129;01min\u001b[39;00m cells:\n",
      "File \u001b[0;32m~/Documents/projects/stats_libs/heuristics_labs/project/heuristic_search_any_angle/any_angle/testing/../../any_angle/common/grid.py:141\u001b[0m, in \u001b[0;36mMap.visible_axes\u001b[0;34m(self, i1, j1, i2, j2)\u001b[0m\n\u001b[1;32m    138\u001b[0m             cells\u001b[38;5;241m.\u001b[39mappend((i \u001b[38;5;241m+\u001b[39m d[\u001b[38;5;241m0\u001b[39m], j \u001b[38;5;241m+\u001b[39m d[\u001b[38;5;241m1\u001b[39m]))\n\u001b[1;32m    139\u001b[0m     \u001b[38;5;28;01mreturn\u001b[39;00m cells\n\u001b[0;32m--> 141\u001b[0m \u001b[38;5;28;01mdef\u001b[39;00m \u001b[38;5;21mvisible_axes\u001b[39m(\u001b[38;5;28mself\u001b[39m, i1, j1, i2, j2):\n\u001b[1;32m    142\u001b[0m     \u001b[38;5;28;01mif\u001b[39;00m i1 \u001b[38;5;241m==\u001b[39m i2:\n\u001b[1;32m    143\u001b[0m         \u001b[38;5;28;01mif\u001b[39;00m j1 \u001b[38;5;241m>\u001b[39m j2:\n",
      "\u001b[0;31mKeyboardInterrupt\u001b[0m: "
     ]
    }
   ],
   "source": [
    "n = 4\n",
    "s = ['.'] * n**2\n",
    "while True:\n",
    "    i = randrange(len(s))\n",
    "    s[i] = '@' if s[i] == '.' else '.'\n",
    "    map_str = \"\"\n",
    "    for i in range(n):\n",
    "        map_str += \"\".join(s[n*i:n*(i+1)]) + '\\n'\n",
    "    map_str = map_str[:-1]\n",
    "    \n",
    "    i1, j1, i2, j2 = randrange(n+1), randrange(n+1), randrange(n+1), randrange(n+1)\n",
    "    \n",
    "    map_ = Map()\n",
    "    map_.read_from_string(map_str, n, n)\n",
    "    length, path = anya(map_, (i1, j1), (i2, j2), 1)\n",
    "    \n",
    "    found, _, stats, _, _ = FullGraph().compute_path(map_str, n, n, (i1, j1), (i2, j2))\n",
    "\n",
    "    if (not found and length != -1) or (found and abs(length - stats.way_length) > 1e-8):\n",
    "        print(repr(map_str))\n",
    "        print(i1, j1, i2, j2)\n",
    "        print(length, stats.way_length)\n",
    "        assert False\n",
    "    \n",
    "    for i in range(1, len(path)):\n",
    "        if not map_.visible(path[i-1][0], path[i-1][1], path[i][0], path[i][1]):\n",
    "            print(repr(map_str))\n",
    "            print(i1, j1, i2, j2)\n",
    "            print(length, path)\n",
    "            assert False"
   ]
  },
  {
   "cell_type": "code",
   "execution_count": 6,
   "id": "5056f8d2",
   "metadata": {
    "scrolled": true
   },
   "outputs": [
    {
     "data": {
      "text/plain": [
       "(3.6502815398728847, [(2, 3), (1, 1), (0, 0)])"
      ]
     },
     "execution_count": 6,
     "metadata": {},
     "output_type": "execute_result"
    }
   ],
   "source": [
    "map_ = Map()\n",
    "map_.read_from_string('.@..\\n....\\n..@@\\n@@@@', 4, 4)\n",
    "length, path = anya(map_, (2, 3), (0, 0), 1)\n",
    "length, path"
   ]
  },
  {
   "cell_type": "code",
   "execution_count": 7,
   "id": "2196fca1",
   "metadata": {},
   "outputs": [],
   "source": [
    "for i in range(1, len(path)):\n",
    "    assert map_.visible(path[i-1][0], path[i-1][1], path[i][0], path[i][1])"
   ]
  }
 ],
 "metadata": {
  "kernelspec": {
   "display_name": "Python 3 (ipykernel)",
   "language": "python",
   "name": "python3"
  },
  "language_info": {
   "codemirror_mode": {
    "name": "ipython",
    "version": 3
   },
   "file_extension": ".py",
   "mimetype": "text/x-python",
   "name": "python",
   "nbconvert_exporter": "python",
   "pygments_lexer": "ipython3",
   "version": "3.10.6"
  }
 },
 "nbformat": 4,
 "nbformat_minor": 5
}
