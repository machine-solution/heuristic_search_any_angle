{
 "cells": [
  {
   "cell_type": "code",
   "execution_count": 1,
   "id": "612ca59e",
   "metadata": {},
   "outputs": [],
   "source": [
    "from random import randrange\n",
    "\n",
    "import sys\n",
    "sys.path.append(\"../..\")  # TODO: change to OS-independent\n",
    "\n",
    "from any_angle.anya.anya import anya\n",
    "from any_angle.common.grid import Map\n",
    "from any_angle.full_graph.api import FullGraph"
   ]
  },
  {
   "cell_type": "code",
   "execution_count": 2,
   "id": "8ef9527e",
   "metadata": {
    "scrolled": true
   },
   "outputs": [
    {
     "ename": "KeyboardInterrupt",
     "evalue": "",
     "output_type": "error",
     "traceback": [
      "\u001b[0;31m---------------------------------------------------------------------------\u001b[0m",
      "\u001b[0;31mKeyboardInterrupt\u001b[0m                         Traceback (most recent call last)",
      "Cell \u001b[0;32mIn [2], line 17\u001b[0m\n\u001b[1;32m     14\u001b[0m map_\u001b[38;5;241m.\u001b[39mread_from_string(map_str, n, n)\n\u001b[1;32m     15\u001b[0m length, path \u001b[38;5;241m=\u001b[39m anya(map_, (i1, j1), (i2, j2), \u001b[38;5;241m1\u001b[39m)\n\u001b[0;32m---> 17\u001b[0m stats \u001b[38;5;241m=\u001b[39m \u001b[43mFullGraph\u001b[49m\u001b[43m(\u001b[49m\u001b[43m)\u001b[49m\u001b[38;5;241;43m.\u001b[39;49m\u001b[43mcompute_path\u001b[49m\u001b[43m(\u001b[49m\u001b[43mmap_str\u001b[49m\u001b[43m,\u001b[49m\u001b[43m \u001b[49m\u001b[43mn\u001b[49m\u001b[43m,\u001b[49m\u001b[43m \u001b[49m\u001b[43mn\u001b[49m\u001b[43m,\u001b[49m\u001b[43m \u001b[49m\u001b[43m(\u001b[49m\u001b[43mi1\u001b[49m\u001b[43m,\u001b[49m\u001b[43m \u001b[49m\u001b[43mj1\u001b[49m\u001b[43m)\u001b[49m\u001b[43m,\u001b[49m\u001b[43m \u001b[49m\u001b[43m(\u001b[49m\u001b[43mi2\u001b[49m\u001b[43m,\u001b[49m\u001b[43m \u001b[49m\u001b[43mj2\u001b[49m\u001b[43m)\u001b[49m\u001b[43m)\u001b[49m\n\u001b[1;32m     19\u001b[0m \u001b[38;5;28;01mif\u001b[39;00m (\u001b[38;5;129;01mnot\u001b[39;00m stats\u001b[38;5;241m.\u001b[39mpath_found \u001b[38;5;129;01mand\u001b[39;00m length \u001b[38;5;241m!=\u001b[39m \u001b[38;5;241m-\u001b[39m\u001b[38;5;241m1\u001b[39m) \u001b[38;5;129;01mor\u001b[39;00m (stats\u001b[38;5;241m.\u001b[39mpath_found \u001b[38;5;129;01mand\u001b[39;00m \u001b[38;5;28mabs\u001b[39m(length \u001b[38;5;241m-\u001b[39m stats\u001b[38;5;241m.\u001b[39mway_length) \u001b[38;5;241m>\u001b[39m \u001b[38;5;241m1e-8\u001b[39m):\n\u001b[1;32m     20\u001b[0m     \u001b[38;5;28mprint\u001b[39m(\u001b[38;5;28mrepr\u001b[39m(map_str))\n",
      "File \u001b[0;32m~/Documents/projects/stats_libs/heuristics_labs/project/heuristic_search_any_angle/any_angle/testing/../../any_angle/common/api.py:24\u001b[0m, in \u001b[0;36mAlgorithm.compute_path\u001b[0;34m(self, cell_str, width, height, start, end)\u001b[0m\n\u001b[1;32m     21\u001b[0m \u001b[38;5;28;01mdef\u001b[39;00m \u001b[38;5;21mcompute_path\u001b[39m(\u001b[38;5;28mself\u001b[39m, cell_str: \u001b[38;5;28mstr\u001b[39m, width: \u001b[38;5;28mint\u001b[39m, height: \u001b[38;5;28mint\u001b[39m,\n\u001b[1;32m     22\u001b[0m                  start: tp\u001b[38;5;241m.\u001b[39mTuple[\u001b[38;5;28mint\u001b[39m, \u001b[38;5;28mint\u001b[39m], end: tp\u001b[38;5;241m.\u001b[39mTuple[\u001b[38;5;28mint\u001b[39m, \u001b[38;5;28mint\u001b[39m]) \u001b[38;5;241m-\u001b[39m\u001b[38;5;241m>\u001b[39m \u001b[38;5;124m\"\u001b[39m\u001b[38;5;124mStats\u001b[39m\u001b[38;5;124m\"\u001b[39m:\n\u001b[1;32m     23\u001b[0m     map_ \u001b[38;5;241m=\u001b[39m \u001b[38;5;28mself\u001b[39m\u001b[38;5;241m.\u001b[39mread_map(cell_str, width, height)\n\u001b[0;32m---> 24\u001b[0m     \u001b[38;5;28;01mreturn\u001b[39;00m \u001b[38;5;28;43mself\u001b[39;49m\u001b[38;5;241;43m.\u001b[39;49m\u001b[43mcompute_path_from_map\u001b[49m\u001b[43m(\u001b[49m\u001b[43mmap_\u001b[49m\u001b[43m,\u001b[49m\u001b[43m \u001b[49m\u001b[43mstart\u001b[49m\u001b[43m,\u001b[49m\u001b[43m \u001b[49m\u001b[43mend\u001b[49m\u001b[43m)\u001b[49m\n",
      "File \u001b[0;32m~/Documents/projects/stats_libs/heuristics_labs/project/heuristic_search_any_angle/any_angle/testing/../../any_angle/full_graph/api.py:17\u001b[0m, in \u001b[0;36mFullGraph.compute_path_from_map\u001b[0;34m(map_, start, end)\u001b[0m\n\u001b[1;32m     15\u001b[0m \u001b[38;5;129m@staticmethod\u001b[39m\n\u001b[1;32m     16\u001b[0m \u001b[38;5;28;01mdef\u001b[39;00m \u001b[38;5;21mcompute_path_from_map\u001b[39m(map_: MapFullGraph, start: tp\u001b[38;5;241m.\u001b[39mTuple[\u001b[38;5;28mint\u001b[39m, \u001b[38;5;28mint\u001b[39m], end: tp\u001b[38;5;241m.\u001b[39mTuple[\u001b[38;5;28mint\u001b[39m, \u001b[38;5;28mint\u001b[39m]) \u001b[38;5;241m-\u001b[39m\u001b[38;5;241m>\u001b[39m Stats:\n\u001b[0;32m---> 17\u001b[0m     \u001b[38;5;28;01mreturn\u001b[39;00m \u001b[43mfull_graph_astar\u001b[49m\u001b[43m(\u001b[49m\u001b[43mmap_\u001b[49m\u001b[43m,\u001b[49m\u001b[43m \u001b[49m\u001b[38;5;241;43m*\u001b[39;49m\u001b[43mstart\u001b[49m\u001b[43m,\u001b[49m\u001b[43m \u001b[49m\u001b[38;5;241;43m*\u001b[39;49m\u001b[43mend\u001b[49m\u001b[43m,\u001b[49m\u001b[43m \u001b[49m\u001b[43meuclidian_distance\u001b[49m\u001b[43m,\u001b[49m\u001b[43m \u001b[49m\u001b[43mSearchTreePQS\u001b[49m\u001b[43m)\u001b[49m[\u001b[38;5;241m2\u001b[39m]\n",
      "File \u001b[0;32m~/Documents/projects/stats_libs/heuristics_labs/project/heuristic_search_any_angle/any_angle/testing/../../any_angle/full_graph/full_graph_algorithm.py:54\u001b[0m, in \u001b[0;36mfull_graph_astar\u001b[0;34m(grid_map, start_i, start_j, goal_i, goal_j, heuristic_func, search_tree)\u001b[0m\n\u001b[1;32m     51\u001b[0m stats\u001b[38;5;241m.\u001b[39mexpansions \u001b[38;5;241m+\u001b[39m\u001b[38;5;241m=\u001b[39m \u001b[38;5;241m1\u001b[39m\n\u001b[1;32m     52\u001b[0m \u001b[38;5;28;01mfor\u001b[39;00m i, j \u001b[38;5;129;01min\u001b[39;00m grid_map\u001b[38;5;241m.\u001b[39mget_neighbors(curr_node\u001b[38;5;241m.\u001b[39mi, curr_node\u001b[38;5;241m.\u001b[39mj):\n\u001b[1;32m     53\u001b[0m     nxt_node \u001b[38;5;241m=\u001b[39m Node(i, j, g\u001b[38;5;241m=\u001b[39mcurr_node\u001b[38;5;241m.\u001b[39mg \u001b[38;5;241m+\u001b[39m compute_cost(curr_node\u001b[38;5;241m.\u001b[39mi, curr_node\u001b[38;5;241m.\u001b[39mj, i, j),\n\u001b[0;32m---> 54\u001b[0m                     h\u001b[38;5;241m=\u001b[39m\u001b[43mheuristic_func\u001b[49m\u001b[43m(\u001b[49m\u001b[43mi\u001b[49m\u001b[43m,\u001b[49m\u001b[43m \u001b[49m\u001b[43mj\u001b[49m\u001b[43m,\u001b[49m\u001b[43m \u001b[49m\u001b[43mgoal_i\u001b[49m\u001b[43m,\u001b[49m\u001b[43m \u001b[49m\u001b[43mgoal_j\u001b[49m\u001b[43m)\u001b[49m\n\u001b[1;32m     55\u001b[0m                     \u001b[38;5;28;01mif\u001b[39;00m heuristic_func \u001b[38;5;28;01melse\u001b[39;00m \u001b[38;5;241m0\u001b[39m,\n\u001b[1;32m     56\u001b[0m                     parent\u001b[38;5;241m=\u001b[39mcurr_node)\n\u001b[1;32m     57\u001b[0m     \u001b[38;5;28;01mif\u001b[39;00m nxt_node \u001b[38;5;241m==\u001b[39m goal_node:\n\u001b[1;32m     58\u001b[0m         path_found \u001b[38;5;241m=\u001b[39m \u001b[38;5;28;01mTrue\u001b[39;00m\n",
      "File \u001b[0;32m~/Documents/projects/stats_libs/heuristics_labs/project/heuristic_search_any_angle/any_angle/testing/../../any_angle/_2k_astar/utils.py:18\u001b[0m, in \u001b[0;36meuclidian_distance\u001b[0;34m(i1, j1, i2, j2, *args)\u001b[0m\n\u001b[1;32m     17\u001b[0m \u001b[38;5;28;01mdef\u001b[39;00m \u001b[38;5;21meuclidian_distance\u001b[39m(i1, j1, i2, j2, \u001b[38;5;241m*\u001b[39margs):\n\u001b[0;32m---> 18\u001b[0m     \u001b[38;5;28;01mreturn\u001b[39;00m \u001b[43mlength\u001b[49m\u001b[43m(\u001b[49m\u001b[43mi1\u001b[49m\u001b[43m \u001b[49m\u001b[38;5;241;43m-\u001b[39;49m\u001b[43m \u001b[49m\u001b[43mi2\u001b[49m\u001b[43m,\u001b[49m\u001b[43m \u001b[49m\u001b[43mj1\u001b[49m\u001b[43m \u001b[49m\u001b[38;5;241;43m-\u001b[39;49m\u001b[43m \u001b[49m\u001b[43mj2\u001b[49m\u001b[43m)\u001b[49m\n",
      "File \u001b[0;32m~/Documents/projects/stats_libs/heuristics_labs/project/heuristic_search_any_angle/any_angle/testing/../../any_angle/_2k_astar/utils.py:14\u001b[0m, in \u001b[0;36mlength\u001b[0;34m(i, j)\u001b[0m\n\u001b[1;32m     13\u001b[0m \u001b[38;5;28;01mdef\u001b[39;00m \u001b[38;5;21mlength\u001b[39m(i, j):\n\u001b[0;32m---> 14\u001b[0m     \u001b[38;5;28;01mreturn\u001b[39;00m \u001b[43mnp\u001b[49m\u001b[38;5;241;43m.\u001b[39;49m\u001b[43msqrt\u001b[49m\u001b[43m(\u001b[49m\u001b[43mi\u001b[49m\u001b[38;5;241;43m*\u001b[39;49m\u001b[38;5;241;43m*\u001b[39;49m\u001b[38;5;241;43m2\u001b[39;49m\u001b[43m \u001b[49m\u001b[38;5;241;43m+\u001b[39;49m\u001b[43m \u001b[49m\u001b[43mj\u001b[49m\u001b[38;5;241;43m*\u001b[39;49m\u001b[38;5;241;43m*\u001b[39;49m\u001b[38;5;241;43m2\u001b[39;49m\u001b[43m)\u001b[49m\n",
      "\u001b[0;31mKeyboardInterrupt\u001b[0m: "
     ]
    }
   ],
   "source": [
    "n = 4\n",
    "s = ['.'] * n**2\n",
    "while True:\n",
    "    i = randrange(len(s))\n",
    "    s[i] = '@' if s[i] == '.' else '.'\n",
    "    map_str = \"\"\n",
    "    for i in range(n):\n",
    "        map_str += \"\".join(s[n*i:n*(i+1)]) + '\\n'\n",
    "    map_str = map_str[:-1]\n",
    "    \n",
    "    i1, j1, i2, j2 = randrange(n+1), randrange(n+1), randrange(n+1), randrange(n+1)\n",
    "    \n",
    "    map_ = Map()\n",
    "    map_.read_from_string(map_str, n, n)\n",
    "    length, path = anya(map_, (i1, j1), (i2, j2), 1)\n",
    "    \n",
    "    stats = FullGraph().compute_path(map_str, n, n, (i1, j1), (i2, j2))\n",
    "\n",
    "    if (not stats.path_found and length != -1) or (stats.path_found and abs(length - stats.way_length) > 1e-8):\n",
    "        print(repr(map_str))\n",
    "        print(i1, j1, i2, j2)\n",
    "        print(length, stats.way_length)\n",
    "        assert False\n",
    "    \n",
    "    for i in range(1, len(path)):\n",
    "        if not map_.visible(path[i-1][0], path[i-1][1], path[i][0], path[i][1]):\n",
    "            print(repr(map_str))\n",
    "            print(i1, j1, i2, j2)\n",
    "            print(length, path)\n",
    "            assert False"
   ]
  },
  {
   "cell_type": "code",
   "execution_count": 3,
   "id": "5056f8d2",
   "metadata": {
    "scrolled": true
   },
   "outputs": [
    {
     "data": {
      "text/plain": [
       "(3.6502815398728847, [(2, 3), (1, 1), (0, 0)])"
      ]
     },
     "execution_count": 3,
     "metadata": {},
     "output_type": "execute_result"
    }
   ],
   "source": [
    "map_ = Map()\n",
    "map_.read_from_string('.@..\\n....\\n..@@\\n@@@@', 4, 4)\n",
    "length, path = anya(map_, (2, 3), (0, 0), 1)\n",
    "length, path"
   ]
  },
  {
   "cell_type": "code",
   "execution_count": 4,
   "id": "2196fca1",
   "metadata": {},
   "outputs": [],
   "source": [
    "for i in range(1, len(path)):\n",
    "    assert map_.visible(path[i-1][0], path[i-1][1], path[i][0], path[i][1])"
   ]
  }
 ],
 "metadata": {
  "kernelspec": {
   "display_name": "Python 3 (ipykernel)",
   "language": "python",
   "name": "python3"
  },
  "language_info": {
   "codemirror_mode": {
    "name": "ipython",
    "version": 3
   },
   "file_extension": ".py",
   "mimetype": "text/x-python",
   "name": "python",
   "nbconvert_exporter": "python",
   "pygments_lexer": "ipython3",
   "version": "3.10.6"
  }
 },
 "nbformat": 4,
 "nbformat_minor": 5
}
