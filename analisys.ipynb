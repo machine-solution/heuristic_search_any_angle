{
 "cells": [
  {
   "cell_type": "code",
   "execution_count": 1,
   "id": "f338b75a",
   "metadata": {},
   "outputs": [],
   "source": [
    "from PIL import Image, ImageDraw\n",
    "import numpy as np\n",
    "import matplotlib.pyplot as plt\n",
    "import math\n",
    "from math import sqrt, floor\n",
    "from heapq import heappop, heappush\n",
    "from datetime import datetime\n",
    "%matplotlib inline\n",
    "\n",
    "from theta.src.grid import Map\n",
    "from theta.src.theta import theta\n",
    "from theta.src.search_tree import *\n",
    "from theta.src.utils import *"
   ]
  },
  {
   "cell_type": "code",
   "execution_count": 2,
   "id": "9b487c32",
   "metadata": {},
   "outputs": [],
   "source": [
    "class NewStats(Stats):\n",
    "    def __init__(self):\n",
    "        self.difficulty = 0\n",
    "        self.expansions = 0 # algorithm must set this value\n",
    "        self.runtime = 0 # algorithm must set this value\n",
    "        self.way_length = 0 # algorithm must set this value\n",
    "        self.suboptimal = 0\n",
    "        self.max_tree_size = 0 # algorithm must set this value\n",
    "\n",
    "    def read_from_string(self, data):\n",
    "        delimiter = \",\"\n",
    "        diff, expansions, runtime, way_length, suboptimal, tree_size = data.split(delimiter)\n",
    "        self.difficulty = int(diff)\n",
    "        self.expansions = int(expansions)\n",
    "        self.runtime = float(runtime)\n",
    "        self.way_length = float(way_length)\n",
    "        self.suboptimal = int(suboptimal)\n",
    "        self.max_tree_size = int(max_tree_size)\n",
    "        \n",
    "        \n",
    "    def __repr__(self):\n",
    "        delimiter = \",\"\n",
    "        return str(self.difficulty) + delimiter + str(self.expansions) + delimiter + str(self.runtime) + delimiter + str(self.way_length) +\\\n",
    "        delimiter + str(self.suboptimal)  + delimiter + str(self.max_tree_size)\n",
    "    \n",
    "    def header(self):\n",
    "        delimiter = \",\"\n",
    "        return \"difficulty\" + delimiter + \"expansions\" + delimiter + \"runtime\" + delimiter + \"way_length\" +\\\n",
    "        delimiter + \"suboptimal\" + delimiter + \"max_tree_size\"\n",
    "  "
   ]
  },
  {
   "cell_type": "code",
   "execution_count": 3,
   "id": "3d790a44",
   "metadata": {},
   "outputs": [],
   "source": [
    "def compute_stats(stats, node, optimal):\n",
    "    if not node is None:\n",
    "        stats.suboptimal = round(stats.way_length / optimal, 6)\n",
    "        stats.runtime = round(stats.runtime.total_seconds(), 6)\n",
    "    return stats"
   ]
  },
  {
   "cell_type": "code",
   "execution_count": 4,
   "id": "f63898e1",
   "metadata": {},
   "outputs": [],
   "source": [
    "class TestCase:\n",
    "    def __init__(self, difficulty, start, goal, optimal):\n",
    "        self.difficulty = difficulty\n",
    "        self.start = start\n",
    "        self.goal = goal\n",
    "        self.optimal = optimal"
   ]
  },
  {
   "cell_type": "code",
   "execution_count": 5,
   "id": "fa89493d",
   "metadata": {},
   "outputs": [],
   "source": [
    "def read_map_from_file(path):\n",
    "    with open(path, \"r\") as f:\n",
    "        map_type = f.readline()\n",
    "        height = f.readline().split()[1]\n",
    "        width = f.readline().split()[1]\n",
    "        f.readline()\n",
    "        # now we read the map\n",
    "        map_canvas = \"\\n\".join(f.readlines())\n",
    "        return map_canvas, int(width), int(height)"
   ]
  },
  {
   "cell_type": "code",
   "execution_count": 6,
   "id": "9a847c92",
   "metadata": {},
   "outputs": [],
   "source": [
    "def read_scenes_from_file(path):\n",
    "    tests = []\n",
    "    with open(path, \"r\") as f:\n",
    "        version = f.readline()\n",
    "        for data in f.readlines():\n",
    "            difficulty, _,_,_, start_y, start_x, goal_y, goal_x, optimal = data.split()\n",
    "            test = TestCase(int(difficulty), (int(start_x), int(start_y)), (int(goal_x), int(goal_y)), float(optimal))\n",
    "            tests.append(test)\n",
    "    return tests"
   ]
  },
  {
   "cell_type": "code",
   "execution_count": 7,
   "id": "d7bc5a0b",
   "metadata": {},
   "outputs": [],
   "source": [
    "class TestSet:\n",
    "    def __init__(self, name, path, output):\n",
    "        self.map = Map()\n",
    "        self.tests = []\n",
    "        self.max_diff = 0\n",
    "        self.name = name\n",
    "        \n",
    "        self.read_from_file(path)\n",
    "        self.input_path = path\n",
    "        self.output_path = output\n",
    "    \n",
    "    def read_from_file(self, path):\n",
    "        map_data = read_map_from_file(path + \".map\")\n",
    "        self.map.read_from_string(*map_data)\n",
    "        self.tests = read_scenes_from_file(path + \".map.scen\")\n",
    "        self.max_diff = max([item.difficulty for item in self.tests])\n",
    "        \n",
    "    def choose_tests(self, number):\n",
    "        tests = []\n",
    "        i = 0\n",
    "        for diff in range(number):\n",
    "            target = diff * self.max_diff  // number\n",
    "            while self.tests[i].difficulty != target:\n",
    "                i += 1\n",
    "            tests.append(self.tests[i])\n",
    "            i += 1\n",
    "        return tests"
   ]
  },
  {
   "cell_type": "code",
   "execution_count": 8,
   "id": "2e00fb0c",
   "metadata": {},
   "outputs": [],
   "source": [
    "sets = []\n",
    "setSC = TestSet(\"starcraft\", \"analysis/data/starcraft/NovaStation\", \"analysis/results/starcraft/NovaStation\")\n",
    "sets.append(setSC)\n",
    "setCity = TestSet(\"paris\", \"analysis/data/paris/Paris_1_256\", \"analysis/results/paris/Paris_1_256\")\n",
    "sets.append(setCity)\n",
    "setMaze = TestSet(\"maze\", \"analysis/data/maze/maze512-32-7\", \"analysis/results/maze/maze512-32-7\")\n",
    "sets.append(setMaze)\n",
    "# setRoom = TestSet(\"room\", \"analysis/data/room/16room_005\", \"analysis/results/room/16room_005\")\n",
    "# sets.append(setRoom)\n",
    "setRand = TestSet(\"random\", \"analysis/data/random/random512-10-5\", \"analysis/results/random/random512-10-5\")\n",
    "sets.append(setRand)"
   ]
  },
  {
   "cell_type": "code",
   "execution_count": 9,
   "id": "074218fa",
   "metadata": {},
   "outputs": [],
   "source": [
    "heuristics = [euclidian_distance, theta_heuristic]\n",
    "hnames = [\"euclidian\", \"theta\"]\n",
    "ws = [1]\n",
    "ps = [1, 2]\n",
    "ks = [8, 16]"
   ]
  },
  {
   "cell_type": "code",
   "execution_count": 10,
   "id": "5817b8d3",
   "metadata": {},
   "outputs": [],
   "source": [
    "class SearchCase:\n",
    "    def __init__(self, h_i, w_i, p_i, k_i):\n",
    "        self.h_i = h_i\n",
    "        self.w_i = w_i\n",
    "        self.p_i = p_i\n",
    "        self.k_i = k_i\n",
    "        \n",
    "    def _repr__(self):\n",
    "        return names[self.h_i] + \".w=\" + str(ws[self.w_i]) + \".p=\" + str(ps[self.p_i]) + \".k=\" + str(ks[self.k_i])"
   ]
  },
  {
   "cell_type": "code",
   "execution_count": 11,
   "id": "9f284197",
   "metadata": {},
   "outputs": [],
   "source": [
    "def analysis(testSet, test_number, sc):\n",
    "    stats = []\n",
    "    tests = testSet.choose_tests(test_number)\n",
    "    \n",
    "    for test in tests:\n",
    "        find, last_node, local_stats, _, _ = theta(testSet.map, *test.start, *test.goal, \n",
    "                                             heuristics[sc.h_i], SearchTreePQSReexp,\n",
    "                                             ws[sc.w_i], ps[sc.p_i], ks[sc.k_i])\n",
    "        local_stats = compute_stats(local_stats, last_node, test.optimal)\n",
    "        local_stats.difficulty = test.difficulty\n",
    "        stats.append(local_stats)\n",
    "        if len(stats) % 10 == 0:\n",
    "            print(\"#\", len(stats)) # for visualization of progress\n",
    "    return stats\n",
    "    "
   ]
  },
  {
   "cell_type": "code",
   "execution_count": 12,
   "id": "6c06d1cd",
   "metadata": {},
   "outputs": [
    {
     "ename": "KeyboardInterrupt",
     "evalue": "",
     "output_type": "error",
     "traceback": [
      "\u001b[0;31m---------------------------------------------------------------------------\u001b[0m",
      "\u001b[0;31mKeyboardInterrupt\u001b[0m                         Traceback (most recent call last)",
      "Cell \u001b[0;32mIn [12], line 10\u001b[0m\n\u001b[1;32m      8\u001b[0m \u001b[38;5;28;01mfor\u001b[39;00m k_i \u001b[38;5;129;01min\u001b[39;00m \u001b[38;5;28mrange\u001b[39m(\u001b[38;5;28mlen\u001b[39m(ks)):\n\u001b[1;32m      9\u001b[0m     sc \u001b[38;5;241m=\u001b[39m SearchCase(h_i, w_i, p_i, k_i)\n\u001b[0;32m---> 10\u001b[0m     stats \u001b[38;5;241m=\u001b[39m \u001b[43manalysis\u001b[49m\u001b[43m(\u001b[49m\u001b[43mtestSet\u001b[49m\u001b[43m,\u001b[49m\u001b[43m \u001b[49m\u001b[38;5;241;43m10\u001b[39;49m\u001b[43m,\u001b[49m\u001b[43m \u001b[49m\u001b[43msc\u001b[49m\u001b[43m)\u001b[49m\n\u001b[1;32m     11\u001b[0m     body \u001b[38;5;241m=\u001b[39m \u001b[38;5;124m\"\u001b[39m\u001b[38;5;130;01m\\n\u001b[39;00m\u001b[38;5;124m\"\u001b[39m\u001b[38;5;241m.\u001b[39mjoin([\u001b[38;5;28mstr\u001b[39m(item) \u001b[38;5;28;01mfor\u001b[39;00m item \u001b[38;5;129;01min\u001b[39;00m stats])\n\u001b[1;32m     13\u001b[0m     \u001b[38;5;28;01mwith\u001b[39;00m \u001b[38;5;28mopen\u001b[39m(testSet\u001b[38;5;241m.\u001b[39moutput_path \u001b[38;5;241m+\u001b[39m \u001b[38;5;124m\"\u001b[39m\u001b[38;5;124m.\u001b[39m\u001b[38;5;124m\"\u001b[39m \u001b[38;5;241m+\u001b[39m \u001b[38;5;28mstr\u001b[39m(sc) \u001b[38;5;241m+\u001b[39m \u001b[38;5;124m\"\u001b[39m\u001b[38;5;124m.stat\u001b[39m\u001b[38;5;124m\"\u001b[39m, \u001b[38;5;124m\"\u001b[39m\u001b[38;5;124mw+\u001b[39m\u001b[38;5;124m\"\u001b[39m) \u001b[38;5;28;01mas\u001b[39;00m f:\n",
      "Cell \u001b[0;32mIn [11], line 6\u001b[0m, in \u001b[0;36manalysis\u001b[0;34m(testSet, test_number, sc)\u001b[0m\n\u001b[1;32m      3\u001b[0m tests \u001b[38;5;241m=\u001b[39m testSet\u001b[38;5;241m.\u001b[39mchoose_tests(test_number)\n\u001b[1;32m      5\u001b[0m \u001b[38;5;28;01mfor\u001b[39;00m test \u001b[38;5;129;01min\u001b[39;00m tests:\n\u001b[0;32m----> 6\u001b[0m     find, last_node, local_stats, _, _ \u001b[38;5;241m=\u001b[39m \u001b[43mtheta\u001b[49m\u001b[43m(\u001b[49m\u001b[43mtestSet\u001b[49m\u001b[38;5;241;43m.\u001b[39;49m\u001b[43mmap\u001b[49m\u001b[43m,\u001b[49m\u001b[43m \u001b[49m\u001b[38;5;241;43m*\u001b[39;49m\u001b[43mtest\u001b[49m\u001b[38;5;241;43m.\u001b[39;49m\u001b[43mstart\u001b[49m\u001b[43m,\u001b[49m\u001b[43m \u001b[49m\u001b[38;5;241;43m*\u001b[39;49m\u001b[43mtest\u001b[49m\u001b[38;5;241;43m.\u001b[39;49m\u001b[43mgoal\u001b[49m\u001b[43m,\u001b[49m\u001b[43m \u001b[49m\n\u001b[1;32m      7\u001b[0m \u001b[43m                                         \u001b[49m\u001b[43mheuristics\u001b[49m\u001b[43m[\u001b[49m\u001b[43msc\u001b[49m\u001b[38;5;241;43m.\u001b[39;49m\u001b[43mh_i\u001b[49m\u001b[43m]\u001b[49m\u001b[43m,\u001b[49m\u001b[43m \u001b[49m\u001b[43mSearchTreePQSReexp\u001b[49m\u001b[43m,\u001b[49m\n\u001b[1;32m      8\u001b[0m \u001b[43m                                         \u001b[49m\u001b[43mws\u001b[49m\u001b[43m[\u001b[49m\u001b[43msc\u001b[49m\u001b[38;5;241;43m.\u001b[39;49m\u001b[43mw_i\u001b[49m\u001b[43m]\u001b[49m\u001b[43m,\u001b[49m\u001b[43m \u001b[49m\u001b[43mps\u001b[49m\u001b[43m[\u001b[49m\u001b[43msc\u001b[49m\u001b[38;5;241;43m.\u001b[39;49m\u001b[43mp_i\u001b[49m\u001b[43m]\u001b[49m\u001b[43m,\u001b[49m\u001b[43m \u001b[49m\u001b[43mks\u001b[49m\u001b[43m[\u001b[49m\u001b[43msc\u001b[49m\u001b[38;5;241;43m.\u001b[39;49m\u001b[43mk_i\u001b[49m\u001b[43m]\u001b[49m\u001b[43m)\u001b[49m\n\u001b[1;32m      9\u001b[0m     local_stats \u001b[38;5;241m=\u001b[39m compute_stats(local_stats, last_node, test\u001b[38;5;241m.\u001b[39moptimal)\n\u001b[1;32m     10\u001b[0m     local_stats\u001b[38;5;241m.\u001b[39mdifficulty \u001b[38;5;241m=\u001b[39m test\u001b[38;5;241m.\u001b[39mdifficulty\n",
      "File \u001b[0;32m~/Documents/Heuristic search/Project/heuristic_search_any_angle/theta/src/theta.py:155\u001b[0m, in \u001b[0;36mtheta\u001b[0;34m(grid_map, start_i, start_j, goal_i, goal_j, heuristic_func, search_tree, w, p, k)\u001b[0m\n\u001b[1;32m    153\u001b[0m \u001b[38;5;66;03m# expanding curr\u001b[39;00m\n\u001b[1;32m    154\u001b[0m stats\u001b[38;5;241m.\u001b[39mexpansions \u001b[38;5;241m+\u001b[39m\u001b[38;5;241m=\u001b[39m \u001b[38;5;241m1\u001b[39m \u001b[38;5;66;03m# statistic\u001b[39;00m\n\u001b[0;32m--> 155\u001b[0m successors \u001b[38;5;241m=\u001b[39m \u001b[43mgetSuccessors\u001b[49m\u001b[43m(\u001b[49m\u001b[43mcurr\u001b[49m\u001b[43m,\u001b[49m\u001b[43m \u001b[49m\u001b[43mgrid_map\u001b[49m\u001b[43m,\u001b[49m\u001b[43m \u001b[49m\u001b[43mgoal_i\u001b[49m\u001b[43m,\u001b[49m\u001b[43m \u001b[49m\u001b[43mgoal_j\u001b[49m\u001b[43m,\u001b[49m\u001b[43m \u001b[49m\u001b[43mheuristic_func\u001b[49m\u001b[43m,\u001b[49m\u001b[43m \u001b[49m\u001b[43mw\u001b[49m\u001b[43m,\u001b[49m\u001b[43m \u001b[49m\u001b[43mp\u001b[49m\u001b[43m,\u001b[49m\u001b[43m \u001b[49m\u001b[43mk\u001b[49m\u001b[43m)\u001b[49m\n\u001b[1;32m    157\u001b[0m \u001b[38;5;28;01mfor\u001b[39;00m node \u001b[38;5;129;01min\u001b[39;00m successors:\n\u001b[1;32m    158\u001b[0m     \u001b[38;5;28;01mif\u001b[39;00m \u001b[38;5;129;01mnot\u001b[39;00m ast\u001b[38;5;241m.\u001b[39mwas_expanded(node):\n",
      "File \u001b[0;32m~/Documents/Heuristic search/Project/heuristic_search_any_angle/theta/src/theta.py:96\u001b[0m, in \u001b[0;36mgetSuccessors\u001b[0;34m(node, grid_map, goal_i, goal_j, heuristic_func, w, p, k)\u001b[0m\n\u001b[1;32m     94\u001b[0m successors \u001b[38;5;241m=\u001b[39m []\n\u001b[1;32m     95\u001b[0m \u001b[38;5;28;01mfor\u001b[39;00m cell \u001b[38;5;129;01min\u001b[39;00m neighbors:\n\u001b[0;32m---> 96\u001b[0m     successors\u001b[38;5;241m.\u001b[39mappend(\u001b[43mgetSuccessor\u001b[49m\u001b[43m(\u001b[49m\u001b[43mnode\u001b[49m\u001b[43m,\u001b[49m\u001b[43m \u001b[49m\u001b[43mcell\u001b[49m\u001b[43m[\u001b[49m\u001b[38;5;241;43m0\u001b[39;49m\u001b[43m]\u001b[49m\u001b[43m,\u001b[49m\u001b[43m \u001b[49m\u001b[43mcell\u001b[49m\u001b[43m[\u001b[49m\u001b[38;5;241;43m1\u001b[39;49m\u001b[43m]\u001b[49m\u001b[43m,\u001b[49m\u001b[43m \u001b[49m\u001b[43mgrid_map\u001b[49m\u001b[43m,\u001b[49m\u001b[43m \u001b[49m\u001b[43mgoal_i\u001b[49m\u001b[43m,\u001b[49m\u001b[43m \u001b[49m\u001b[43mgoal_j\u001b[49m\u001b[43m,\u001b[49m\u001b[43m \u001b[49m\u001b[43mheuristic_func\u001b[49m\u001b[43m,\u001b[49m\u001b[43m \u001b[49m\u001b[43mw\u001b[49m\u001b[43m,\u001b[49m\u001b[43m \u001b[49m\u001b[43mp\u001b[49m\u001b[43m)\u001b[49m)\n\u001b[1;32m     97\u001b[0m \u001b[38;5;28;01mreturn\u001b[39;00m successors\n",
      "File \u001b[0;32m~/Documents/Heuristic search/Project/heuristic_search_any_angle/theta/src/theta.py:82\u001b[0m, in \u001b[0;36mgetSuccessor\u001b[0;34m(node, i, j, grid_map, goal_i, goal_j, heuristic_func, w, p)\u001b[0m\n\u001b[1;32m     79\u001b[0m     p \u001b[38;5;241m-\u001b[39m\u001b[38;5;241m=\u001b[39m \u001b[38;5;241m1\u001b[39m\n\u001b[1;32m     81\u001b[0m \u001b[38;5;28;01mfor\u001b[39;00m parent \u001b[38;5;129;01min\u001b[39;00m \u001b[38;5;28mreversed\u001b[39m(parents):\n\u001b[0;32m---> 82\u001b[0m     \u001b[38;5;28;01mif\u001b[39;00m \u001b[43mgrid_map\u001b[49m\u001b[38;5;241;43m.\u001b[39;49m\u001b[43mvisible\u001b[49m\u001b[43m(\u001b[49m\u001b[43mparent\u001b[49m\u001b[38;5;241;43m.\u001b[39;49m\u001b[43mi\u001b[49m\u001b[43m,\u001b[49m\u001b[43m \u001b[49m\u001b[43mparent\u001b[49m\u001b[38;5;241;43m.\u001b[39;49m\u001b[43mj\u001b[49m\u001b[43m,\u001b[49m\u001b[43m \u001b[49m\u001b[43mi\u001b[49m\u001b[43m,\u001b[49m\u001b[43m \u001b[49m\u001b[43mj\u001b[49m\u001b[43m)\u001b[49m:\n\u001b[1;32m     83\u001b[0m         \u001b[38;5;66;03m# optimize\u001b[39;00m\n\u001b[1;32m     84\u001b[0m         \u001b[38;5;28;01mif\u001b[39;00m compute_cost(parent\u001b[38;5;241m.\u001b[39mi, parent\u001b[38;5;241m.\u001b[39mj, i, j) \u001b[38;5;241m<\u001b[39m compute_cost(parent\u001b[38;5;241m.\u001b[39mi, parent\u001b[38;5;241m.\u001b[39mj, node\u001b[38;5;241m.\u001b[39mi, node\u001b[38;5;241m.\u001b[39mj):\n\u001b[1;32m     85\u001b[0m             \u001b[38;5;28;01mcontinue\u001b[39;00m\n",
      "File \u001b[0;32m~/Documents/Heuristic search/Project/heuristic_search_any_angle/theta/src/grid.py:182\u001b[0m, in \u001b[0;36mMap.visible\u001b[0;34m(self, i1, j1, i2, j2)\u001b[0m\n\u001b[1;32m    180\u001b[0m         cells \u001b[38;5;241m=\u001b[39m intersect_cells(i1, j1, i2, j2)\n\u001b[1;32m    181\u001b[0m         \u001b[38;5;28;01mfor\u001b[39;00m cell \u001b[38;5;129;01min\u001b[39;00m cells:\n\u001b[0;32m--> 182\u001b[0m             \u001b[38;5;28;01mif\u001b[39;00m \u001b[38;5;129;01mnot\u001b[39;00m \u001b[38;5;28;43mself\u001b[39;49m\u001b[38;5;241;43m.\u001b[39;49m\u001b[43mtraversable\u001b[49m\u001b[43m(\u001b[49m\u001b[43mcell\u001b[49m\u001b[43m[\u001b[49m\u001b[38;5;241;43m0\u001b[39;49m\u001b[43m]\u001b[49m\u001b[43m,\u001b[49m\u001b[43m \u001b[49m\u001b[43mcell\u001b[49m\u001b[43m[\u001b[49m\u001b[38;5;241;43m1\u001b[39;49m\u001b[43m]\u001b[49m\u001b[43m)\u001b[49m:\n\u001b[1;32m    183\u001b[0m \u001b[38;5;66;03m#                print(\"invisible : (\", i1, \",\", j1, \") and (\", i2, \",\", j2, \")\")\u001b[39;00m\n\u001b[1;32m    184\u001b[0m                 \u001b[38;5;28;01mreturn\u001b[39;00m \u001b[38;5;28;01mFalse\u001b[39;00m\n\u001b[1;32m    185\u001b[0m \u001b[38;5;66;03m#        print(\"  visible : (\", i1, \",\", j1, \") and (\", i2, \",\", j2, \")\")\u001b[39;00m\n",
      "File \u001b[0;32m~/Documents/Heuristic search/Project/heuristic_search_any_angle/theta/src/grid.py:122\u001b[0m, in \u001b[0;36mMap.traversable\u001b[0;34m(self, i, j)\u001b[0m\n\u001b[1;32m    118\u001b[0m \u001b[38;5;28;01mdef\u001b[39;00m \u001b[38;5;21mtraversable\u001b[39m(\u001b[38;5;28mself\u001b[39m, i, j):\n\u001b[1;32m    119\u001b[0m     \u001b[38;5;124;03m'''\u001b[39;00m\n\u001b[1;32m    120\u001b[0m \u001b[38;5;124;03m    Check if the cell is not an obstacle.\u001b[39;00m\n\u001b[1;32m    121\u001b[0m \u001b[38;5;124;03m    '''\u001b[39;00m\n\u001b[0;32m--> 122\u001b[0m     \u001b[38;5;28;01mreturn\u001b[39;00m \u001b[38;5;28;43mself\u001b[39;49m\u001b[38;5;241;43m.\u001b[39;49m\u001b[43mcell_in_bounds\u001b[49m\u001b[43m(\u001b[49m\u001b[43mi\u001b[49m\u001b[43m,\u001b[49m\u001b[43m \u001b[49m\u001b[43mj\u001b[49m\u001b[43m)\u001b[49m \u001b[38;5;129;01mand\u001b[39;00m (\u001b[38;5;129;01mnot\u001b[39;00m \u001b[38;5;28mself\u001b[39m\u001b[38;5;241m.\u001b[39m_cells[i][j])\n",
      "\u001b[0;31mKeyboardInterrupt\u001b[0m: "
     ]
    }
   ],
   "source": [
    "# don't run it. It can rewrite files with statistic\n",
    "\n",
    "for testSet in sets:\n",
    "    header = NewStats().header()\n",
    "    for h_i in range(len(heuristics)):\n",
    "        for w_i in range(len(ws)):\n",
    "            for p_i in range(len(ps)):\n",
    "                for k_i in range(len(ks)):\n",
    "                    sc = SearchCase(h_i, w_i, p_i, k_i)\n",
    "                    stats = analysis(testSet, 10, sc)\n",
    "                    body = \"\\n\".join([str(item) for item in stats])\n",
    "\n",
    "                    with open(testSet.output_path + \".\" + str(sc) + \".stat\", \"w+\") as f:\n",
    "                        f.write(names[i] + \"\\n\" + header + \"\\n\" + body)\n",
    "                    print(\"-\" * 14)\n"
   ]
  },
  {
   "cell_type": "code",
   "execution_count": null,
   "id": "681bdb40",
   "metadata": {},
   "outputs": [],
   "source": []
  }
 ],
 "metadata": {
  "kernelspec": {
   "display_name": "Python 3 (ipykernel)",
   "language": "python",
   "name": "python3"
  },
  "language_info": {
   "codemirror_mode": {
    "name": "ipython",
    "version": 3
   },
   "file_extension": ".py",
   "mimetype": "text/x-python",
   "name": "python",
   "nbconvert_exporter": "python",
   "pygments_lexer": "ipython3",
   "version": "3.10.6"
  }
 },
 "nbformat": 4,
 "nbformat_minor": 5
}
