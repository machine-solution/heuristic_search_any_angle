{
 "cells": [
  {
   "cell_type": "code",
   "execution_count": 1,
   "id": "612ca59e",
   "metadata": {},
   "outputs": [],
   "source": [
    "from anya import anya\n",
    "from grid import Map"
   ]
  },
  {
   "cell_type": "code",
   "execution_count": 2,
   "id": "8ef9527e",
   "metadata": {},
   "outputs": [
    {
     "name": "stdout",
     "output_type": "stream",
     "text": [
      "(-1, -1) (Fraction(0, 1), Fraction(0, 1)) 0\n",
      "(0, 0) (Fraction(0, 1), Fraction(1, 1)) 1\n",
      "0 2 -1 1 (Fraction(0, 1), Fraction(1, 1), 2)\n",
      "obs succ 2 (Fraction(0, 1), Fraction(1, 1)) (0, 0) False\n",
      "obs succ 2 (Fraction(1, 1), Fraction(1, 1)) (0, 0) False\n",
      "(0, 0) (Fraction(1, 1), Fraction(2, 1)) 1\n",
      "non-obs succ 0 (Fraction(1, 1), Fraction(2, 1)) (1, 2) False\n",
      "(0, 0) (Fraction(2, 1), Fraction(3, 1)) 1\n",
      "non-obs succ 0 (Fraction(1, 1), Fraction(2, 1)) (1, 2) False\n",
      "(0, 0) (Fraction(0, 1), Fraction(1, 1)) 2\n",
      "0 3/2 -1 2 (Fraction(0, 1), Fraction(3, 2), 3)\n",
      "obs succ 3 (Fraction(0, 1), Fraction(3, 2)) (0, 0) False\n",
      "non-obs succ 0 (Fraction(1, 1), Fraction(2, 1)) (2, 1) False\n",
      "non-obs succ 3 (Fraction(3, 2), Fraction(3, 1)) (2, 1) False\n",
      "(0, 0) (Fraction(1, 1), Fraction(1, 1)) 2\n",
      "3/2 3/2 1/2 2 (Fraction(3, 2), Fraction(3, 2), 3)\n",
      "obs succ 3 (Fraction(3, 2), Fraction(3, 2)) (0, 0) False\n",
      "non-obs succ 0 (Fraction(1, 1), Fraction(2, 1)) (2, 1) False\n",
      "non-obs succ 3 (Fraction(3, 2), Fraction(3, 1)) (2, 1) False\n",
      "non-obs succ 0 (Fraction(1, 1), Fraction(2, 1)) (2, 1) False\n",
      "non-obs succ 3 (Fraction(3, 2), Fraction(3, 1)) (2, 1) False\n",
      "(2, 1) (Fraction(3, 2), Fraction(3, 1)) 3\n"
     ]
    },
    {
     "data": {
      "text/plain": [
       "4.47213595499958"
      ]
     },
     "execution_count": 2,
     "metadata": {},
     "output_type": "execute_result"
    }
   ],
   "source": [
    "map_ = Map(\"...\\n.#.\\n...\", 3, 3)\n",
    "anya(map_, (0, 0), (3, 3))"
   ]
  }
 ],
 "metadata": {
  "kernelspec": {
   "display_name": "Python 3 (ipykernel)",
   "language": "python",
   "name": "python3"
  },
  "language_info": {
   "codemirror_mode": {
    "name": "ipython",
    "version": 3
   },
   "file_extension": ".py",
   "mimetype": "text/x-python",
   "name": "python",
   "nbconvert_exporter": "python",
   "pygments_lexer": "ipython3",
   "version": "3.10.6"
  }
 },
 "nbformat": 4,
 "nbformat_minor": 5
}
