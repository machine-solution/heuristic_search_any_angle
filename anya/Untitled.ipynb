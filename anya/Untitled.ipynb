{
 "cells": [
  {
   "cell_type": "code",
   "execution_count": 1,
   "id": "612ca59e",
   "metadata": {},
   "outputs": [],
   "source": [
    "from anya import anya\n",
    "from grid import Map\n",
    "from random import randrange"
   ]
  },
  {
   "cell_type": "code",
   "execution_count": 2,
   "id": "8ef9527e",
   "metadata": {},
   "outputs": [
    {
     "name": "stdout",
     "output_type": "stream",
     "text": [
      "(-1, -1) (Fraction(4, 1), Fraction(4, 1)) 0 0 2.8284271247461903\n",
      "start succ (Fraction(3, 1), Fraction(4, 1)) 0 (0, 4)\n",
      "start succ (Fraction(4, 1), Fraction(4, 1)) 0 (0, 4)\n",
      "start succ (Fraction(3, 1), Fraction(3, 1)) 1 (0, 4)\n",
      "start succ (Fraction(3, 1), Fraction(4, 1)) 1 (0, 4)\n",
      "(0, 4) (Fraction(3, 1), Fraction(4, 1)) 0 0 2.8284271247461903\n",
      "obs succ 0 (Fraction(3, 1), Fraction(3, 1)) (0, 4) False\n",
      "(0, 4) (Fraction(3, 1), Fraction(3, 1)) 1 0 2.8284271247461903\n",
      "obs succ 2 (Fraction(2, 1), Fraction(2, 1)) (0, 4) False\n",
      "non-obs succ 1 (Fraction(2, 1), Fraction(3, 1)) (1, 3) False 1.4142135623730951 2.8284271247461903\n",
      "non-obs succ 2 (Fraction(0, 1), Fraction(2, 1)) (1, 3) False 1.4142135623730951 2.8284271247461903\n",
      "non-obs succ 1 (Fraction(2, 1), Fraction(3, 1)) (1, 3) False 1.4142135623730951 2.8284271247461903\n",
      "non-obs succ 2 (Fraction(0, 1), Fraction(2, 1)) (1, 3) False 1.4142135623730951 2.8284271247461903\n",
      "(0, 4) (Fraction(3, 1), Fraction(4, 1)) 1 0 2.8284271247461903\n",
      "obs succ 2 (Fraction(2, 1), Fraction(4, 1)) (0, 4) False\n",
      "non-obs succ 1 (Fraction(2, 1), Fraction(3, 1)) (1, 3) False 1.4142135623730951 2.8284271247461903\n",
      "non-obs succ 2 (Fraction(0, 1), Fraction(2, 1)) (1, 3) False 1.4142135623730951 2.8284271247461903\n",
      "(0, 4) (Fraction(2, 1), Fraction(2, 1)) 2 0 2.8284271247461903\n",
      "..#.\n",
      "....\n",
      "....\n",
      "....\n",
      "0 4 2 2\n"
     ]
    },
    {
     "ename": "AssertionError",
     "evalue": "",
     "output_type": "error",
     "traceback": [
      "\u001b[0;31m---------------------------------------------------------------------------\u001b[0m",
      "\u001b[0;31mAssertionError\u001b[0m                            Traceback (most recent call last)",
      "Cell \u001b[0;32mIn [2], line 18\u001b[0m\n\u001b[1;32m     16\u001b[0m \u001b[38;5;28mprint\u001b[39m(map_str)\n\u001b[1;32m     17\u001b[0m \u001b[38;5;28mprint\u001b[39m(i1, j1, i2, j2)\n\u001b[0;32m---> 18\u001b[0m \u001b[38;5;28;01massert\u001b[39;00m \u001b[38;5;28;01mFalse\u001b[39;00m\n",
      "\u001b[0;31mAssertionError\u001b[0m: "
     ]
    }
   ],
   "source": [
    "map_ = Map()\n",
    "n = 4\n",
    "s = ['.'] * n**2\n",
    "while True:\n",
    "    i = randrange(len(s))\n",
    "    s[i] = '#' if s[i] == '.' else '.'\n",
    "    map_str = \"\"\n",
    "    for i in range(n):\n",
    "        map_str += \"\".join(s[n*i:n*(i+1)]) + '\\n'\n",
    "    map_str = map_str[:-1]\n",
    "    map_.read_from_string(map_str, n, n)\n",
    "    i1, j1, i2, j2 = randrange(n+1), randrange(n+1), randrange(n+1), randrange(n+1)\n",
    "    length, path = anya(map_, (i1, j1), (i2, j2))\n",
    "    for i in range(1, len(path)):\n",
    "        if not map_.visible(path[i-1][0], path[i-1][1], path[i][0], path[i][1]):\n",
    "            print(map_str)\n",
    "            print(i1, j1, i2, j2)\n",
    "            assert False"
   ]
  },
  {
   "cell_type": "code",
   "execution_count": 3,
   "id": "f1117d2f",
   "metadata": {},
   "outputs": [
    {
     "name": "stdout",
     "output_type": "stream",
     "text": [
      "(-1, -1) (Fraction(4, 1), Fraction(4, 1)) 0 0 2.8284271247461903\n",
      "start succ (Fraction(3, 1), Fraction(4, 1)) 0 (0, 4)\n",
      "start succ (Fraction(4, 1), Fraction(4, 1)) 0 (0, 4)\n",
      "start succ (Fraction(3, 1), Fraction(3, 1)) 1 (0, 4)\n",
      "start succ (Fraction(3, 1), Fraction(4, 1)) 1 (0, 4)\n",
      "(0, 4) (Fraction(3, 1), Fraction(4, 1)) 0 0 2.8284271247461903\n",
      "obs succ 0 (Fraction(3, 1), Fraction(3, 1)) (0, 4) False\n",
      "(0, 4) (Fraction(3, 1), Fraction(3, 1)) 1 0 2.8284271247461903\n",
      "obs succ 2 (Fraction(2, 1), Fraction(2, 1)) (0, 4) False\n",
      "non-obs succ 1 (Fraction(2, 1), Fraction(3, 1)) (1, 3) False 1.4142135623730951 2.8284271247461903\n",
      "non-obs succ 2 (Fraction(0, 1), Fraction(2, 1)) (1, 3) False 1.4142135623730951 2.8284271247461903\n",
      "non-obs succ 1 (Fraction(2, 1), Fraction(3, 1)) (1, 3) False 1.4142135623730951 2.8284271247461903\n",
      "non-obs succ 2 (Fraction(0, 1), Fraction(2, 1)) (1, 3) False 1.4142135623730951 2.8284271247461903\n",
      "(0, 4) (Fraction(3, 1), Fraction(4, 1)) 1 0 2.8284271247461903\n",
      "obs succ 2 (Fraction(2, 1), Fraction(4, 1)) (0, 4) False\n",
      "non-obs succ 1 (Fraction(2, 1), Fraction(3, 1)) (1, 3) False 1.4142135623730951 2.8284271247461903\n",
      "non-obs succ 2 (Fraction(0, 1), Fraction(2, 1)) (1, 3) False 1.4142135623730951 2.8284271247461903\n",
      "(0, 4) (Fraction(2, 1), Fraction(2, 1)) 2 0 2.8284271247461903\n"
     ]
    },
    {
     "data": {
      "text/plain": [
       "(2.8284271247461903, [(0, 4), (2, 2)])"
      ]
     },
     "execution_count": 3,
     "metadata": {},
     "output_type": "execute_result"
    }
   ],
   "source": [
    "map_ = Map()\n",
    "map_.read_from_string(\"..#.\\n....\\n....\\n....\", 4, 4)\n",
    "length, path = anya(map_, (0, 4), (2, 2))\n",
    "length, path"
   ]
  },
  {
   "cell_type": "code",
   "execution_count": 4,
   "id": "5ba2f388",
   "metadata": {},
   "outputs": [
    {
     "data": {
      "text/plain": [
       "False"
      ]
     },
     "execution_count": 4,
     "metadata": {},
     "output_type": "execute_result"
    }
   ],
   "source": [
    "map_.visible(0, 4, 2, 2)"
   ]
  },
  {
   "cell_type": "code",
   "execution_count": 3,
   "id": "2196fca1",
   "metadata": {},
   "outputs": [],
   "source": [
    "for i in range(1, len(path)):\n",
    "    assert map_.visible(path[i-1][0], path[i-1][1], path[i][0], path[i][1])"
   ]
  }
 ],
 "metadata": {
  "kernelspec": {
   "display_name": "Python 3 (ipykernel)",
   "language": "python",
   "name": "python3"
  },
  "language_info": {
   "codemirror_mode": {
    "name": "ipython",
    "version": 3
   },
   "file_extension": ".py",
   "mimetype": "text/x-python",
   "name": "python",
   "nbconvert_exporter": "python",
   "pygments_lexer": "ipython3",
   "version": "3.10.6"
  }
 },
 "nbformat": 4,
 "nbformat_minor": 5
}
