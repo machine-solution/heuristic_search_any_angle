{
 "cells": [
  {
   "cell_type": "code",
   "execution_count": 1,
   "id": "f57da745",
   "metadata": {},
   "outputs": [],
   "source": [
    "%matplotlib inline\n",
    "\n",
    "import sys\n",
    "sys.path.append(\"..\")\n",
    "\n",
    "from any_angle.theta.draw import *\n",
    "from any_angle.theta.grid import MapTheta"
   ]
  },
  {
   "cell_type": "code",
   "execution_count": 2,
   "id": "86e2be04",
   "metadata": {},
   "outputs": [],
   "source": [
    "height = 15\n",
    "width = 30\n",
    "map_str = '''\n",
    ".....................@@.......\n",
    ".....................@@.......\n",
    ".....................@@.......\n",
    "...@@................@@.......\n",
    "...@@........@@......@@.......\n",
    "...@@........@@......@@@@@....\n",
    "...@@........@@......@@@@@....\n",
    "...@@........@@...............\n",
    "...@@........@@...............\n",
    "...@@........@@...............\n",
    "...@@........@@...............\n",
    "...@@........@@...............\n",
    ".............@@...............\n",
    ".............@@...............\n",
    ".............@@...............\n",
    "'''\n",
    "\n",
    "test_map = MapTheta()\n",
    "test_map.read_from_string(map_str, width, height)"
   ]
  },
  {
   "cell_type": "code",
   "execution_count": 3,
   "id": "aaca8dba",
   "metadata": {},
   "outputs": [],
   "source": [
    "draw_gif(test_map, start = (1, 1), goal = (1, 25), store_path=\"theta.gif\", duration=10, onAPRays=True)"
   ]
  },
  {
   "cell_type": "markdown",
   "id": "fe4c106e",
   "metadata": {},
   "source": [
    "![Text](theta_example.gif)"
   ]
  }
 ],
 "metadata": {
  "kernelspec": {
   "display_name": "Python 3 (ipykernel)",
   "language": "python",
   "name": "python3"
  },
  "language_info": {
   "codemirror_mode": {
    "name": "ipython",
    "version": 3
   },
   "file_extension": ".py",
   "mimetype": "text/x-python",
   "name": "python",
   "nbconvert_exporter": "python",
   "pygments_lexer": "ipython3",
   "version": "3.10.6"
  }
 },
 "nbformat": 4,
 "nbformat_minor": 5
}
